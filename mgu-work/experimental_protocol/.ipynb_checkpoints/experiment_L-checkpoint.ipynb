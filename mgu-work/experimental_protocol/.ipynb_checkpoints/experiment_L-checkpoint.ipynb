{
 "cells": [
  {
   "cell_type": "markdown",
   "metadata": {},
   "source": [
    "# The Hypothesis\n",
    "\n",
    "In past years we have seen a lot of cross-domain applications from various deep learning areas to particular real-life cases with apparently little connection. One of those areas is that of applying deep representation learning based on neural language processing to business analytics systems and recommender systems in particular.\n",
    "The intuition behind our proposed deep learning pipeline is that we could, at least in theory, generate, through multiple modeling iterations, powerful-enough semantic vector space embeddings for each individual item (product) so that we can infer replacements items and propose them in the case on original product shortages – all of these in a self-supervised setting.\n",
    "Employing the same self-supervised approach and proposed experiment setting we are proposing a secondary generative model. This secondary objective is aiming at providing a cold-start for new products that are introduced in the inventory and, as such, do not have a transactional history and thus any kind of patterns.\n",
    "\n",
    "The hypothesis is that we can apply post-processing fine-tuning after trained product embeddings  - _ProVe_ -  that have been generated with GloVe <cite data-cite=\"pennington2014glove\"> </cite> in a similary way as Grbovic et al <cite data-cite=\"grbovic2015commerce\"> </cite> use word2vec <cite data-cite=\"mikolov2013efficient\"> </cite> in their _prod2-vec_ <cite data-cite=\"grbovic2015commerce\"> </cite> work. The fine tuning process will be either based on retrofitting or on actual re-construction of the   vector space with new co-occurrence matrices in order to generate a product vector space model able to generate both item-replacement information as well as new embeddings for cold-start-ing items in inventories.\n",
    "\n",
    "More precisely the hypothesis is that our proposed approach will reduce the distance between products that can actually replace each other in real life, while “pushing” apart dissimilar products in a similar manner as presented in the work of Faruqui et al<cite data-cite=\"faruqui2014retrofitting\"></cite>, Mrkšić et al <cite data-cite=\"mrkvsic2016counter\"> </cite> and in the more recent work of Dingwall et al <cite data-cite=\"dingwall2018mittens\"></cite> and Lengerich et al <cite data-cite=\"lengerich2017retrofitting\"></cite> . \n",
    " Although the before mentioned work addresses natural language processing & understanding, we will assimilate product/items with words as well as other NLP/NLU objects with retail/business concepts."
   ]
  },
  {
   "cell_type": "markdown",
   "metadata": {},
   "source": [
    "# The Data\n",
    "\n",
    "For our experiment we decided to use a real-life transactional dataset that contains more than 2M transactions of a retailer with various locations over a period of more than 3 years. Although the dataset contains more than 15,000 different products in order to speed-up experiment time using full in-GPU training we reduced the number of products to a maximum of 13,000 top sold products.\n",
    "\n",
    "_Further information on the data can be observed in the data loading, preparation and minimal visualization of the experiment._"
   ]
  },
  {
   "cell_type": "code",
   "execution_count": 1,
   "metadata": {},
   "outputs": [],
   "source": [
    "# We load the required packages and setup the notebook environment\n",
    "import numpy as np\n",
    "from scipy import sparse\n",
    "import itertools\n",
    "import os\n",
    "import pandas as pd\n",
    "from datetime import datetime as dt\n",
    "from time import time\n",
    "import textwrap\n",
    "from itertools import combinations\n",
    "import matplotlib.pyplot as plt\n",
    "%matplotlib inline"
   ]
  },
  {
   "cell_type": "markdown",
   "metadata": {},
   "source": [
    "_We prepare the majority of our global variables_"
   ]
  },
  {
   "cell_type": "code",
   "execution_count": 2,
   "metadata": {},
   "outputs": [],
   "source": [
    "print_df = False\n",
    "DEBUG = True # in-development flag\n",
    "MODEL_NAME = 'exp_v1'\n",
    "DATA_HOME = 'exp_data'\n",
    "MODEL_HOME = 'exp_models'\n",
    "DATA_FILE = os.path.join(DATA_HOME, 'df_tran_proc_top_13.5k.csv')\n",
    "DATA_SLICE_FILE = os.path.join(DATA_HOME, 'df_tran_proc_top_13.5k_slice.csv')\n",
    "META_FILE = os.path.join(DATA_HOME, 'df_items_top_13.5k.csv')\n",
    "META_INFO = os.path.join(DATA_HOME, 'obfuscated_keys.txt')\n",
    "MCO_OUT_FILE = os.path.join(MODEL_HOME, 'exp_mco.npz')\n",
    "EMB_OUT_FILE = os.path.join(MODEL_HOME, MODEL_NAME + '_embeds.npy')\n",
    "EMB128_10k_FN = 'exp_v2_i10k.npy'\n",
    "EMB128_250k_FN = 'exp_v1_embeds.npy'\n",
    "EMB128_10k = os.path.join(MODEL_HOME, EMB128_10k_FN)\n",
    "EMB128_250k = os.path.join(MODEL_HOME, EMB128_250k_FN)\n",
    "CHUNK_SIZE = 100 * 1024 ** 2 # read 100MB chunks\n",
    "MAX_N_TOP_PRODUCTS = 13000  # top sold products\n",
    "_MCO_FILE  = os.path.join(MODEL_HOME, 'mco_top_13.5k.npz') # debug pre-prepared mco"
   ]
  },
  {
   "cell_type": "markdown",
   "metadata": {},
   "source": [
    "## Data processing approach\n",
    "\n",
    "\n",
    "Due to the size of transactional databases that often have billions of transactions each with many individual items we generate the proposed matric o co-occurence (MCO) with efficient batch reading of the transactional data. \n"
   ]
  },
  {
   "cell_type": "markdown",
   "metadata": {},
   "source": [
    "_For the purpose of efficiently processing the transactional records we use sparse arrays and a few helper functions within the `prove.py` module. We load our ProVe framework as well as other utility functions and pretty-prints settings for `Pandas` and `NumPy`. In order to ensure experiment replicability for all iterations we have setup a simple logging process (the class `Log`). All the source code in the current development stage for the `prove.py` module can be found at https://github.com/andreiionutdamian/cs224u/blob/develop/prove.py_"
   ]
  },
  {
   "cell_type": "code",
   "execution_count": 3,
   "metadata": {},
   "outputs": [],
   "source": [
    "from prove import Log\n",
    "from prove import load_categs_from_json\n",
    "from prove import generate_sparse_mco\n",
    "from prove import show_neighbors\n",
    "from prove import filter_categs\n",
    "from prove import show_categs\n",
    "from prove import ProVe\n",
    "from prove import EmbedsEngine"
   ]
  },
  {
   "cell_type": "code",
   "execution_count": 4,
   "metadata": {},
   "outputs": [],
   "source": [
    "pd.set_option('display.max_rows', 500)\n",
    "pd.set_option('display.max_columns', 500)\n",
    "pd.set_option('display.max_colwidth', 500)\n",
    "pd.set_option('display.width', 1000)\n",
    "pd.set_option('precision', 4)  \n",
    "pd.set_option('display.float_format', '{:.3f}'.format)\n",
    "pd.set_option('display.notebook_repr_html', True)\n",
    "\n",
    "def _repr_latex_(self):\n",
    "    str_latex = ''\n",
    "    str_latex += '\\\\begin{center}\\n'\n",
    "    str_latex += '\\scriptsize\\n'\n",
    "    str_latex += self.to_latex(\n",
    "        bold_rows=True,\n",
    "        index_names=False,\n",
    "    )\n",
    "    str_latex += '\\end{center}\\n'\n",
    "    return str_latex\n",
    "\n",
    "pd.DataFrame._repr_latex_ = _repr_latex_  # monkey patch pandas DataFrame\n",
    "np.set_printoptions(precision=3)\n",
    "np.set_printoptions(suppress=True)\n",
    "np.set_printoptions(linewidth=500)\n",
    "plt.style.use('ggplot')\n",
    "from IPython.display import Markdown, display\n",
    "def printmd(string):\n",
    "    display(Markdown(string))\n",
    "log = Log(printmd)"
   ]
  },
  {
   "cell_type": "markdown",
   "metadata": {},
   "source": [
    "## Understanding the data\n",
    "\n",
    "The proposed experimental real-life data comes within a few files generated by SQL commands and exports from an existing ERP system of our retailer. The most notable data files are the transactional database file and the metadata file.  The metadata information taken directly from a real-life production system (ERP) contains raw information minimally describing each product-SKU `IdemId` with product name (`ItemName`) and other information such as number of item sales in observed in the selected period, a unique sequential item identificator (`IDE`) as well as as hierarchy information in two fields `Ierarhie1` and `Ierarhie2` that will be further used as a knowledge graph similar to WordNet <cite data-cite=\"miller1995wordnet\"> </cite>. There is also a secondary de-obfuscation data-source that contains for each hierarchy identified the actual name of that category. This information can also be used as a source for self-supervision in the process of creating the knowledge graph for the fine-tuning of our semantic vector space model.\n",
    "\n",
    "The real-life transactional dataset, as previously mentioned, contains over 6M observations for over 2M different transactions. Each observation in the transactional database contains a `BasketId` identifier of the transaction as well as individual transaction detail information such as `ItemId` (and its counterpart `IDE`), a `SiteId` field that identifies the location of that particular transaction, a `TimeStamp` time-identification that is basically the same for all items of the same transaction, a quantity field, a customer identifier field and a product availability indicator.\n",
    "\n",
    "\n",
    "\n",
    "_For the metadata we load the whole file and analyse its content while for the transactional database we take a quick look at the first chunk of 15 rows_"
   ]
  },
  {
   "cell_type": "code",
   "execution_count": 5,
   "metadata": {},
   "outputs": [
    {
     "name": "stdout",
     "output_type": "stream",
     "text": [
      "Metatada information:\n",
      "  Total no of products: 13000\n",
      "  Total no of level 1 hierarchies: 24\n",
      "  Total no of level 2 hierarchies: 181\n",
      "  Most sold individual product over period:\n",
      "   Name:  YUVAL NOAH HARARI / SAPIENS. SCURTA ISTORIE A OMENIRII\n",
      "   Id:    545535\n",
      "   Freq:  21248\n",
      "   Hrchy: 1/17\n",
      "  Least sold individual product over period:\n",
      "   Name:  DAVID GROSSMAN / UN CAL INTRA ÎNTR-UN BAR\n",
      "   Id:    442552\n",
      "   Freq:  156\n",
      "   Hrchy: 1/0\n"
     ]
    },
    {
     "data": {
      "text/html": [
       "<div>\n",
       "<style scoped>\n",
       "    .dataframe tbody tr th:only-of-type {\n",
       "        vertical-align: middle;\n",
       "    }\n",
       "\n",
       "    .dataframe tbody tr th {\n",
       "        vertical-align: top;\n",
       "    }\n",
       "\n",
       "    .dataframe thead th {\n",
       "        text-align: right;\n",
       "    }\n",
       "</style>\n",
       "<table border=\"1\" class=\"dataframe\">\n",
       "  <thead>\n",
       "    <tr style=\"text-align: right;\">\n",
       "      <th></th>\n",
       "      <th>ItemId</th>\n",
       "      <th>IDE</th>\n",
       "      <th>Freq</th>\n",
       "      <th>ItemName</th>\n",
       "      <th>Ierarhie1</th>\n",
       "      <th>Ierarhie2</th>\n",
       "    </tr>\n",
       "  </thead>\n",
       "  <tbody>\n",
       "    <tr>\n",
       "      <th>2</th>\n",
       "      <td>406083</td>\n",
       "      <td>2</td>\n",
       "      <td>13371</td>\n",
       "      <td>FELICITARI A 7331335123458</td>\n",
       "      <td>11</td>\n",
       "      <td>107</td>\n",
       "    </tr>\n",
       "    <tr>\n",
       "      <th>6</th>\n",
       "      <td>258901</td>\n",
       "      <td>6</td>\n",
       "      <td>8341</td>\n",
       "      <td>TURTA DULCE TIP INIMIOARE</td>\n",
       "      <td>20</td>\n",
       "      <td>269</td>\n",
       "    </tr>\n",
       "    <tr>\n",
       "      <th>13</th>\n",
       "      <td>527499</td>\n",
       "      <td>13</td>\n",
       "      <td>7676</td>\n",
       "      <td>TIBI USERIU / 27 DE PASI</td>\n",
       "      <td>1</td>\n",
       "      <td>9</td>\n",
       "    </tr>\n",
       "    <tr>\n",
       "      <th>15</th>\n",
       "      <td>493855</td>\n",
       "      <td>15</td>\n",
       "      <td>7354</td>\n",
       "      <td>IRINA BINDER / FLUTURI VOL. 3</td>\n",
       "      <td>1</td>\n",
       "      <td>0</td>\n",
       "    </tr>\n",
       "    <tr>\n",
       "      <th>23</th>\n",
       "      <td>651356</td>\n",
       "      <td>23</td>\n",
       "      <td>6718</td>\n",
       "      <td>SACOSA BIO CARTURESTI</td>\n",
       "      <td>11</td>\n",
       "      <td>100</td>\n",
       "    </tr>\n",
       "    <tr>\n",
       "      <th>24</th>\n",
       "      <td>522568</td>\n",
       "      <td>24</td>\n",
       "      <td>6531</td>\n",
       "      <td>IRINA BINDER / INSOMNII</td>\n",
       "      <td>1</td>\n",
       "      <td>9</td>\n",
       "    </tr>\n",
       "    <tr>\n",
       "      <th>30</th>\n",
       "      <td>599979</td>\n",
       "      <td>30</td>\n",
       "      <td>6006</td>\n",
       "      <td>MICHELLE OBAMA / POVESTEA MEA</td>\n",
       "      <td>1</td>\n",
       "      <td>9</td>\n",
       "    </tr>\n",
       "    <tr>\n",
       "      <th>34</th>\n",
       "      <td>439986</td>\n",
       "      <td>34</td>\n",
       "      <td>5434</td>\n",
       "      <td>PAULA HAWKINS / FATA DIN TREN</td>\n",
       "      <td>1</td>\n",
       "      <td>0</td>\n",
       "    </tr>\n",
       "    <tr>\n",
       "      <th>40</th>\n",
       "      <td>258895</td>\n",
       "      <td>40</td>\n",
       "      <td>5143</td>\n",
       "      <td>TURTA DULCE POM DE CRACIUN</td>\n",
       "      <td>20</td>\n",
       "      <td>269</td>\n",
       "    </tr>\n",
       "    <tr>\n",
       "      <th>41</th>\n",
       "      <td>258898</td>\n",
       "      <td>41</td>\n",
       "      <td>5122</td>\n",
       "      <td>TURTA DULCE MOS CRACIUN MIC</td>\n",
       "      <td>20</td>\n",
       "      <td>269</td>\n",
       "    </tr>\n",
       "    <tr>\n",
       "      <th>46</th>\n",
       "      <td>355291</td>\n",
       "      <td>46</td>\n",
       "      <td>5061</td>\n",
       "      <td>SABOTEUR / 8+ / 747496</td>\n",
       "      <td>4</td>\n",
       "      <td>181</td>\n",
       "    </tr>\n",
       "    <tr>\n",
       "      <th>48</th>\n",
       "      <td>258361</td>\n",
       "      <td>48</td>\n",
       "      <td>4998</td>\n",
       "      <td>M35 WINTER COCKTAIL 50G</td>\n",
       "      <td>13</td>\n",
       "      <td>79</td>\n",
       "    </tr>\n",
       "    <tr>\n",
       "      <th>50</th>\n",
       "      <td>258270</td>\n",
       "      <td>50</td>\n",
       "      <td>4953</td>\n",
       "      <td>M161 MULTI FRUIT 50G</td>\n",
       "      <td>13</td>\n",
       "      <td>79</td>\n",
       "    </tr>\n",
       "    <tr>\n",
       "      <th>58</th>\n",
       "      <td>406255</td>\n",
       "      <td>58</td>\n",
       "      <td>4806</td>\n",
       "      <td>SENECA / ALT TIMP NU AM</td>\n",
       "      <td>1</td>\n",
       "      <td>43</td>\n",
       "    </tr>\n",
       "    <tr>\n",
       "      <th>59</th>\n",
       "      <td>258417</td>\n",
       "      <td>59</td>\n",
       "      <td>4765</td>\n",
       "      <td>M85 REDBUSH BAKED APPLE 50G</td>\n",
       "      <td>13</td>\n",
       "      <td>79</td>\n",
       "    </tr>\n",
       "  </tbody>\n",
       "</table>\n",
       "</div>"
      ],
      "text/latex": [
       "\\begin{center}\n",
       "\\scriptsize\n",
       "\\begin{tabular}{lrrrlrr}\n",
       "\\toprule\n",
       "{} &  ItemId &  IDE &   Freq &                       ItemName &  Ierarhie1 &  Ierarhie2 \\\\\n",
       "\\midrule\n",
       "\\textbf{2 } &  406083 &    2 &  13371 &     FELICITARI A 7331335123458 &         11 &        107 \\\\\n",
       "\\textbf{6 } &  258901 &    6 &   8341 &      TURTA DULCE TIP INIMIOARE &         20 &        269 \\\\\n",
       "\\textbf{13} &  527499 &   13 &   7676 &       TIBI USERIU / 27 DE PASI &          1 &          9 \\\\\n",
       "\\textbf{15} &  493855 &   15 &   7354 &  IRINA BINDER / FLUTURI VOL. 3 &          1 &          0 \\\\\n",
       "\\textbf{23} &  651356 &   23 &   6718 &          SACOSA BIO CARTURESTI &         11 &        100 \\\\\n",
       "\\textbf{24} &  522568 &   24 &   6531 &        IRINA BINDER / INSOMNII &          1 &          9 \\\\\n",
       "\\textbf{30} &  599979 &   30 &   6006 &  MICHELLE OBAMA / POVESTEA MEA &          1 &          9 \\\\\n",
       "\\textbf{34} &  439986 &   34 &   5434 &  PAULA HAWKINS / FATA DIN TREN &          1 &          0 \\\\\n",
       "\\textbf{40} &  258895 &   40 &   5143 &     TURTA DULCE POM DE CRACIUN &         20 &        269 \\\\\n",
       "\\textbf{41} &  258898 &   41 &   5122 &    TURTA DULCE MOS CRACIUN MIC &         20 &        269 \\\\\n",
       "\\textbf{46} &  355291 &   46 &   5061 &         SABOTEUR / 8+ / 747496 &          4 &        181 \\\\\n",
       "\\textbf{48} &  258361 &   48 &   4998 &        M35 WINTER COCKTAIL 50G &         13 &         79 \\\\\n",
       "\\textbf{50} &  258270 &   50 &   4953 &           M161 MULTI FRUIT 50G &         13 &         79 \\\\\n",
       "\\textbf{58} &  406255 &   58 &   4806 &        SENECA / ALT TIMP NU AM &          1 &         43 \\\\\n",
       "\\textbf{59} &  258417 &   59 &   4765 &    M85 REDBUSH BAKED APPLE 50G &         13 &         79 \\\\\n",
       "\\bottomrule\n",
       "\\end{tabular}\n",
       "\\end{center}\n"
      ],
      "text/plain": [
       "    ItemId  IDE   Freq                       ItemName  Ierarhie1  Ierarhie2\n",
       "2   406083    2  13371     FELICITARI A 7331335123458         11        107\n",
       "6   258901    6   8341      TURTA DULCE TIP INIMIOARE         20        269\n",
       "13  527499   13   7676       TIBI USERIU / 27 DE PASI          1          9\n",
       "15  493855   15   7354  IRINA BINDER / FLUTURI VOL. 3          1          0\n",
       "23  651356   23   6718          SACOSA BIO CARTURESTI         11        100\n",
       "24  522568   24   6531        IRINA BINDER / INSOMNII          1          9\n",
       "30  599979   30   6006  MICHELLE OBAMA / POVESTEA MEA          1          9\n",
       "34  439986   34   5434  PAULA HAWKINS / FATA DIN TREN          1          0\n",
       "40  258895   40   5143     TURTA DULCE POM DE CRACIUN         20        269\n",
       "41  258898   41   5122    TURTA DULCE MOS CRACIUN MIC         20        269\n",
       "46  355291   46   5061         SABOTEUR / 8+ / 747496          4        181\n",
       "48  258361   48   4998        M35 WINTER COCKTAIL 50G         13         79\n",
       "50  258270   50   4953           M161 MULTI FRUIT 50G         13         79\n",
       "58  406255   58   4806        SENECA / ALT TIMP NU AM          1         43\n",
       "59  258417   59   4765    M85 REDBUSH BAKED APPLE 50G         13         79"
      ]
     },
     "execution_count": 5,
     "metadata": {},
     "output_type": "execute_result"
    }
   ],
   "source": [
    "def show_product(IDE, df):\n",
    "    rec = df[df.IDE==IDE].iloc[0]\n",
    "    log.P(\"   Name:  {}\".format(rec.ItemName))\n",
    "    log.P(\"   Id:    {}\".format(rec.ItemId))\n",
    "    log.P(\"   Freq:  {}\".format(rec.Freq))\n",
    "    log.P(\"   Hrchy: {}/{}\".format(rec.Ierarhie1, rec.Ierarhie2))\n",
    "    return\n",
    "    \n",
    "log.P(\"Metatada information:\")    \n",
    "df_meta = pd.read_csv(META_FILE)\n",
    "df_meta = df_meta[df_meta.IDE < MAX_N_TOP_PRODUCTS]\n",
    "log.P(\"  Total no of products: {}\".format(df_meta.ItemId.unique().shape[0]))\n",
    "log.P(\"  Total no of level 1 hierarchies: {}\".format(df_meta.Ierarhie1.unique().shape[0]))\n",
    "log.P(\"  Total no of level 2 hierarchies: {}\".format(df_meta.Ierarhie2.unique().shape[0]))\n",
    "log.P(\"  Most sold individual product over period:\")\n",
    "show_product(df_meta[df_meta.Freq == df_meta.Freq.max()].iloc[0]['IDE'], df_meta)\n",
    "log.P(\"  Least sold individual product over period:\")\n",
    "show_product(df_meta[df_meta.Freq == df_meta.Freq.min()].iloc[0]['IDE'], df_meta)\n",
    "df_meta[df_meta.ItemName.str.len()<30].iloc[:15,:-1]"
   ]
  },
  {
   "cell_type": "markdown",
   "metadata": {},
   "source": [
    "As we are working with a real-life normed relational database the hyerarchi fields do not tell much information other than a simple `int` identifier however we can deobfuscate them (`Ierarhie1` and `Ierarhie2`) in our database fields with additional external data-source."
   ]
  },
  {
   "cell_type": "code",
   "execution_count": 6,
   "metadata": {},
   "outputs": [
    {
     "data": {
      "text/html": [
       "<div>\n",
       "<style scoped>\n",
       "    .dataframe tbody tr th:only-of-type {\n",
       "        vertical-align: middle;\n",
       "    }\n",
       "\n",
       "    .dataframe tbody tr th {\n",
       "        vertical-align: top;\n",
       "    }\n",
       "\n",
       "    .dataframe thead th {\n",
       "        text-align: right;\n",
       "    }\n",
       "</style>\n",
       "<table border=\"1\" class=\"dataframe\">\n",
       "  <thead>\n",
       "    <tr style=\"text-align: right;\">\n",
       "      <th></th>\n",
       "      <th>ItemName</th>\n",
       "      <th>Ierarhie1_name</th>\n",
       "      <th>Ierarhie2_name</th>\n",
       "    </tr>\n",
       "  </thead>\n",
       "  <tbody>\n",
       "    <tr>\n",
       "      <th>2</th>\n",
       "      <td>FELICITARI A 7331335123458</td>\n",
       "      <td>PAPETARIE</td>\n",
       "      <td>Giftware</td>\n",
       "    </tr>\n",
       "    <tr>\n",
       "      <th>6</th>\n",
       "      <td>TURTA DULCE TIP INIMIOARE</td>\n",
       "      <td>GASTRONOMIE</td>\n",
       "      <td>Bakery</td>\n",
       "    </tr>\n",
       "    <tr>\n",
       "      <th>13</th>\n",
       "      <td>TIBI USERIU / 27 DE PASI</td>\n",
       "      <td>CARTE ROM</td>\n",
       "      <td>BIOGRAFII / MEMORII</td>\n",
       "    </tr>\n",
       "    <tr>\n",
       "      <th>15</th>\n",
       "      <td>IRINA BINDER / FLUTURI VOL. 3</td>\n",
       "      <td>CARTE ROM</td>\n",
       "      <td>FICTIUNE</td>\n",
       "    </tr>\n",
       "    <tr>\n",
       "      <th>23</th>\n",
       "      <td>SACOSA BIO CARTURESTI</td>\n",
       "      <td>PAPETARIE</td>\n",
       "      <td>TEMPORAR 1</td>\n",
       "    </tr>\n",
       "    <tr>\n",
       "      <th>24</th>\n",
       "      <td>IRINA BINDER / INSOMNII</td>\n",
       "      <td>CARTE ROM</td>\n",
       "      <td>BIOGRAFII / MEMORII</td>\n",
       "    </tr>\n",
       "    <tr>\n",
       "      <th>30</th>\n",
       "      <td>MICHELLE OBAMA / POVESTEA MEA</td>\n",
       "      <td>CARTE ROM</td>\n",
       "      <td>BIOGRAFII / MEMORII</td>\n",
       "    </tr>\n",
       "    <tr>\n",
       "      <th>34</th>\n",
       "      <td>PAULA HAWKINS / FATA DIN TREN</td>\n",
       "      <td>CARTE ROM</td>\n",
       "      <td>FICTIUNE</td>\n",
       "    </tr>\n",
       "    <tr>\n",
       "      <th>40</th>\n",
       "      <td>TURTA DULCE POM DE CRACIUN</td>\n",
       "      <td>GASTRONOMIE</td>\n",
       "      <td>Bakery</td>\n",
       "    </tr>\n",
       "    <tr>\n",
       "      <th>41</th>\n",
       "      <td>TURTA DULCE MOS CRACIUN MIC</td>\n",
       "      <td>GASTRONOMIE</td>\n",
       "      <td>Bakery</td>\n",
       "    </tr>\n",
       "    <tr>\n",
       "      <th>46</th>\n",
       "      <td>SABOTEUR / 8+ / 747496</td>\n",
       "      <td>JUCARII</td>\n",
       "      <td>CARD GAMES</td>\n",
       "    </tr>\n",
       "    <tr>\n",
       "      <th>48</th>\n",
       "      <td>M35 WINTER COCKTAIL 50G</td>\n",
       "      <td>GASTRONOMIE AA</td>\n",
       "      <td>Ceai</td>\n",
       "    </tr>\n",
       "    <tr>\n",
       "      <th>50</th>\n",
       "      <td>M161 MULTI FRUIT 50G</td>\n",
       "      <td>GASTRONOMIE AA</td>\n",
       "      <td>Ceai</td>\n",
       "    </tr>\n",
       "    <tr>\n",
       "      <th>58</th>\n",
       "      <td>SENECA / ALT TIMP NU AM</td>\n",
       "      <td>CARTE ROM</td>\n",
       "      <td>FILOSOFIE</td>\n",
       "    </tr>\n",
       "    <tr>\n",
       "      <th>59</th>\n",
       "      <td>M85 REDBUSH BAKED APPLE 50G</td>\n",
       "      <td>GASTRONOMIE AA</td>\n",
       "      <td>Ceai</td>\n",
       "    </tr>\n",
       "  </tbody>\n",
       "</table>\n",
       "</div>"
      ],
      "text/latex": [
       "\\begin{center}\n",
       "\\scriptsize\n",
       "\\begin{tabular}{llll}\n",
       "\\toprule\n",
       "{} &                       ItemName &  Ierarhie1\\_name &       Ierarhie2\\_name \\\\\n",
       "\\midrule\n",
       "\\textbf{2 } &     FELICITARI A 7331335123458 &       PAPETARIE &             Giftware \\\\\n",
       "\\textbf{6 } &      TURTA DULCE TIP INIMIOARE &     GASTRONOMIE &               Bakery \\\\\n",
       "\\textbf{13} &       TIBI USERIU / 27 DE PASI &       CARTE ROM &  BIOGRAFII / MEMORII \\\\\n",
       "\\textbf{15} &  IRINA BINDER / FLUTURI VOL. 3 &       CARTE ROM &             FICTIUNE \\\\\n",
       "\\textbf{23} &          SACOSA BIO CARTURESTI &       PAPETARIE &           TEMPORAR 1 \\\\\n",
       "\\textbf{24} &        IRINA BINDER / INSOMNII &       CARTE ROM &  BIOGRAFII / MEMORII \\\\\n",
       "\\textbf{30} &  MICHELLE OBAMA / POVESTEA MEA &       CARTE ROM &  BIOGRAFII / MEMORII \\\\\n",
       "\\textbf{34} &  PAULA HAWKINS / FATA DIN TREN &       CARTE ROM &             FICTIUNE \\\\\n",
       "\\textbf{40} &     TURTA DULCE POM DE CRACIUN &     GASTRONOMIE &               Bakery \\\\\n",
       "\\textbf{41} &    TURTA DULCE MOS CRACIUN MIC &     GASTRONOMIE &               Bakery \\\\\n",
       "\\textbf{46} &         SABOTEUR / 8+ / 747496 &         JUCARII &           CARD GAMES \\\\\n",
       "\\textbf{48} &        M35 WINTER COCKTAIL 50G &  GASTRONOMIE AA &                 Ceai \\\\\n",
       "\\textbf{50} &           M161 MULTI FRUIT 50G &  GASTRONOMIE AA &                 Ceai \\\\\n",
       "\\textbf{58} &        SENECA / ALT TIMP NU AM &       CARTE ROM &            FILOSOFIE \\\\\n",
       "\\textbf{59} &    M85 REDBUSH BAKED APPLE 50G &  GASTRONOMIE AA &                 Ceai \\\\\n",
       "\\bottomrule\n",
       "\\end{tabular}\n",
       "\\end{center}\n"
      ],
      "text/plain": [
       "                         ItemName  Ierarhie1_name       Ierarhie2_name\n",
       "2      FELICITARI A 7331335123458       PAPETARIE             Giftware\n",
       "6       TURTA DULCE TIP INIMIOARE     GASTRONOMIE               Bakery\n",
       "13       TIBI USERIU / 27 DE PASI       CARTE ROM  BIOGRAFII / MEMORII\n",
       "15  IRINA BINDER / FLUTURI VOL. 3       CARTE ROM             FICTIUNE\n",
       "23          SACOSA BIO CARTURESTI       PAPETARIE           TEMPORAR 1\n",
       "24        IRINA BINDER / INSOMNII       CARTE ROM  BIOGRAFII / MEMORII\n",
       "30  MICHELLE OBAMA / POVESTEA MEA       CARTE ROM  BIOGRAFII / MEMORII\n",
       "34  PAULA HAWKINS / FATA DIN TREN       CARTE ROM             FICTIUNE\n",
       "40     TURTA DULCE POM DE CRACIUN     GASTRONOMIE               Bakery\n",
       "41    TURTA DULCE MOS CRACIUN MIC     GASTRONOMIE               Bakery\n",
       "46         SABOTEUR / 8+ / 747496         JUCARII           CARD GAMES\n",
       "48        M35 WINTER COCKTAIL 50G  GASTRONOMIE AA                 Ceai\n",
       "50           M161 MULTI FRUIT 50G  GASTRONOMIE AA                 Ceai\n",
       "58        SENECA / ALT TIMP NU AM       CARTE ROM            FILOSOFIE\n",
       "59    M85 REDBUSH BAKED APPLE 50G  GASTRONOMIE AA                 Ceai"
      ]
     },
     "execution_count": 6,
     "metadata": {},
     "output_type": "execute_result"
    }
   ],
   "source": [
    "df_meta, dct_categories = load_categs_from_json(df_meta, META_INFO)\n",
    "df_meta[df_meta.ItemName.str.len()<30].iloc[:15,[3,7,8]]"
   ]
  },
  {
   "cell_type": "code",
   "execution_count": 7,
   "metadata": {},
   "outputs": [
    {
     "data": {
      "text/html": [
       "<div>\n",
       "<style scoped>\n",
       "    .dataframe tbody tr th:only-of-type {\n",
       "        vertical-align: middle;\n",
       "    }\n",
       "\n",
       "    .dataframe tbody tr th {\n",
       "        vertical-align: top;\n",
       "    }\n",
       "\n",
       "    .dataframe thead th {\n",
       "        text-align: right;\n",
       "    }\n",
       "</style>\n",
       "<table border=\"1\" class=\"dataframe\">\n",
       "  <thead>\n",
       "    <tr style=\"text-align: right;\">\n",
       "      <th></th>\n",
       "      <th>BasketId</th>\n",
       "      <th>ItemId</th>\n",
       "      <th>SiteId</th>\n",
       "      <th>TimeStamp</th>\n",
       "      <th>Qtty</th>\n",
       "      <th>ClientId</th>\n",
       "    </tr>\n",
       "  </thead>\n",
       "  <tbody>\n",
       "    <tr>\n",
       "      <th>0</th>\n",
       "      <td>7130756</td>\n",
       "      <td>441093</td>\n",
       "      <td>26</td>\n",
       "      <td>2016-01-01 14:49:02.403</td>\n",
       "      <td>1.000</td>\n",
       "      <td>-103</td>\n",
       "    </tr>\n",
       "    <tr>\n",
       "      <th>1</th>\n",
       "      <td>7130756</td>\n",
       "      <td>464012</td>\n",
       "      <td>26</td>\n",
       "      <td>2016-01-01 14:49:02.403</td>\n",
       "      <td>1.000</td>\n",
       "      <td>-103</td>\n",
       "    </tr>\n",
       "    <tr>\n",
       "      <th>2</th>\n",
       "      <td>7130756</td>\n",
       "      <td>464013</td>\n",
       "      <td>26</td>\n",
       "      <td>2016-01-01 14:49:02.403</td>\n",
       "      <td>1.000</td>\n",
       "      <td>-103</td>\n",
       "    </tr>\n",
       "    <tr>\n",
       "      <th>3</th>\n",
       "      <td>7130802</td>\n",
       "      <td>377742</td>\n",
       "      <td>20</td>\n",
       "      <td>2016-01-01 15:49:03.860</td>\n",
       "      <td>1.000</td>\n",
       "      <td>-103</td>\n",
       "    </tr>\n",
       "    <tr>\n",
       "      <th>4</th>\n",
       "      <td>7130802</td>\n",
       "      <td>405083</td>\n",
       "      <td>20</td>\n",
       "      <td>2016-01-01 15:49:03.860</td>\n",
       "      <td>1.000</td>\n",
       "      <td>-103</td>\n",
       "    </tr>\n",
       "    <tr>\n",
       "      <th>5</th>\n",
       "      <td>7130802</td>\n",
       "      <td>405084</td>\n",
       "      <td>20</td>\n",
       "      <td>2016-01-01 15:49:03.860</td>\n",
       "      <td>1.000</td>\n",
       "      <td>-103</td>\n",
       "    </tr>\n",
       "    <tr>\n",
       "      <th>6</th>\n",
       "      <td>7130803</td>\n",
       "      <td>365473</td>\n",
       "      <td>26</td>\n",
       "      <td>2016-01-01 15:49:42.567</td>\n",
       "      <td>1.000</td>\n",
       "      <td>-103</td>\n",
       "    </tr>\n",
       "    <tr>\n",
       "      <th>7</th>\n",
       "      <td>7130803</td>\n",
       "      <td>381249</td>\n",
       "      <td>26</td>\n",
       "      <td>2016-01-01 15:49:42.567</td>\n",
       "      <td>1.000</td>\n",
       "      <td>-103</td>\n",
       "    </tr>\n",
       "    <tr>\n",
       "      <th>8</th>\n",
       "      <td>7130809</td>\n",
       "      <td>344274</td>\n",
       "      <td>26</td>\n",
       "      <td>2016-01-01 15:53:19.953</td>\n",
       "      <td>1.000</td>\n",
       "      <td>-103</td>\n",
       "    </tr>\n",
       "    <tr>\n",
       "      <th>9</th>\n",
       "      <td>7130809</td>\n",
       "      <td>393877</td>\n",
       "      <td>26</td>\n",
       "      <td>2016-01-01 15:53:19.953</td>\n",
       "      <td>1.000</td>\n",
       "      <td>-103</td>\n",
       "    </tr>\n",
       "    <tr>\n",
       "      <th>10</th>\n",
       "      <td>7130810</td>\n",
       "      <td>165748</td>\n",
       "      <td>20</td>\n",
       "      <td>2016-01-01 15:54:17.053</td>\n",
       "      <td>1.000</td>\n",
       "      <td>-103</td>\n",
       "    </tr>\n",
       "    <tr>\n",
       "      <th>11</th>\n",
       "      <td>7130810</td>\n",
       "      <td>363903</td>\n",
       "      <td>20</td>\n",
       "      <td>2016-01-01 15:54:17.053</td>\n",
       "      <td>1.000</td>\n",
       "      <td>-103</td>\n",
       "    </tr>\n",
       "    <tr>\n",
       "      <th>12</th>\n",
       "      <td>7130822</td>\n",
       "      <td>350149</td>\n",
       "      <td>20</td>\n",
       "      <td>2016-01-01 16:05:18.960</td>\n",
       "      <td>1.000</td>\n",
       "      <td>-103</td>\n",
       "    </tr>\n",
       "    <tr>\n",
       "      <th>13</th>\n",
       "      <td>7130822</td>\n",
       "      <td>447921</td>\n",
       "      <td>20</td>\n",
       "      <td>2016-01-01 16:05:18.960</td>\n",
       "      <td>1.000</td>\n",
       "      <td>-103</td>\n",
       "    </tr>\n",
       "    <tr>\n",
       "      <th>14</th>\n",
       "      <td>7130822</td>\n",
       "      <td>464013</td>\n",
       "      <td>20</td>\n",
       "      <td>2016-01-01 16:05:18.960</td>\n",
       "      <td>1.000</td>\n",
       "      <td>-103</td>\n",
       "    </tr>\n",
       "  </tbody>\n",
       "</table>\n",
       "</div>"
      ],
      "text/latex": [
       "\\begin{center}\n",
       "\\scriptsize\n",
       "\\begin{tabular}{lrrrlrr}\n",
       "\\toprule\n",
       "{} &  BasketId &  ItemId &  SiteId &                TimeStamp &  Qtty &  ClientId \\\\\n",
       "\\midrule\n",
       "\\textbf{0 } &   7130756 &  441093 &      26 &  2016-01-01 14:49:02.403 & 1.000 &      -103 \\\\\n",
       "\\textbf{1 } &   7130756 &  464012 &      26 &  2016-01-01 14:49:02.403 & 1.000 &      -103 \\\\\n",
       "\\textbf{2 } &   7130756 &  464013 &      26 &  2016-01-01 14:49:02.403 & 1.000 &      -103 \\\\\n",
       "\\textbf{3 } &   7130802 &  377742 &      20 &  2016-01-01 15:49:03.860 & 1.000 &      -103 \\\\\n",
       "\\textbf{4 } &   7130802 &  405083 &      20 &  2016-01-01 15:49:03.860 & 1.000 &      -103 \\\\\n",
       "\\textbf{5 } &   7130802 &  405084 &      20 &  2016-01-01 15:49:03.860 & 1.000 &      -103 \\\\\n",
       "\\textbf{6 } &   7130803 &  365473 &      26 &  2016-01-01 15:49:42.567 & 1.000 &      -103 \\\\\n",
       "\\textbf{7 } &   7130803 &  381249 &      26 &  2016-01-01 15:49:42.567 & 1.000 &      -103 \\\\\n",
       "\\textbf{8 } &   7130809 &  344274 &      26 &  2016-01-01 15:53:19.953 & 1.000 &      -103 \\\\\n",
       "\\textbf{9 } &   7130809 &  393877 &      26 &  2016-01-01 15:53:19.953 & 1.000 &      -103 \\\\\n",
       "\\textbf{10} &   7130810 &  165748 &      20 &  2016-01-01 15:54:17.053 & 1.000 &      -103 \\\\\n",
       "\\textbf{11} &   7130810 &  363903 &      20 &  2016-01-01 15:54:17.053 & 1.000 &      -103 \\\\\n",
       "\\textbf{12} &   7130822 &  350149 &      20 &  2016-01-01 16:05:18.960 & 1.000 &      -103 \\\\\n",
       "\\textbf{13} &   7130822 &  447921 &      20 &  2016-01-01 16:05:18.960 & 1.000 &      -103 \\\\\n",
       "\\textbf{14} &   7130822 &  464013 &      20 &  2016-01-01 16:05:18.960 & 1.000 &      -103 \\\\\n",
       "\\bottomrule\n",
       "\\end{tabular}\n",
       "\\end{center}\n"
      ],
      "text/plain": [
       "    BasketId  ItemId  SiteId                TimeStamp  Qtty  ClientId\n",
       "0    7130756  441093      26  2016-01-01 14:49:02.403 1.000      -103\n",
       "1    7130756  464012      26  2016-01-01 14:49:02.403 1.000      -103\n",
       "2    7130756  464013      26  2016-01-01 14:49:02.403 1.000      -103\n",
       "3    7130802  377742      20  2016-01-01 15:49:03.860 1.000      -103\n",
       "4    7130802  405083      20  2016-01-01 15:49:03.860 1.000      -103\n",
       "5    7130802  405084      20  2016-01-01 15:49:03.860 1.000      -103\n",
       "6    7130803  365473      26  2016-01-01 15:49:42.567 1.000      -103\n",
       "7    7130803  381249      26  2016-01-01 15:49:42.567 1.000      -103\n",
       "8    7130809  344274      26  2016-01-01 15:53:19.953 1.000      -103\n",
       "9    7130809  393877      26  2016-01-01 15:53:19.953 1.000      -103\n",
       "10   7130810  165748      20  2016-01-01 15:54:17.053 1.000      -103\n",
       "11   7130810  363903      20  2016-01-01 15:54:17.053 1.000      -103\n",
       "12   7130822  350149      20  2016-01-01 16:05:18.960 1.000      -103\n",
       "13   7130822  447921      20  2016-01-01 16:05:18.960 1.000      -103\n",
       "14   7130822  464013      20  2016-01-01 16:05:18.960 1.000      -103"
      ]
     },
     "execution_count": 7,
     "metadata": {},
     "output_type": "execute_result"
    }
   ],
   "source": [
    "chunk_reader = pd.read_csv(DATA_SLICE_FILE, iterator=True) \n",
    "chunk_reader.get_chunk(15).iloc[:,:-2]"
   ]
  },
  {
   "cell_type": "code",
   "execution_count": 8,
   "metadata": {},
   "outputs": [],
   "source": [
    "chunk_reader.close()"
   ]
  },
  {
   "cell_type": "markdown",
   "metadata": {},
   "source": [
    "## NLU meets BPA\n",
    "In terms of natural language models analogy to Business Predictive Analytics systems, we consider each individual basket as a “sentence” and consider each individual product id as a “word”. Referring to our proposed method of constructing matrix of co-occurrence counts and applying GloVe approach for the vector space representation modeling we have two options: \n",
    "\n",
    " - using a specific context window size controlled as a model hyperparameter with or without weighting between focal and each individual item;\n",
    " - considering each transaction as the overall context with no distance weighting between the focal word and the context word;\n",
    "\n",
    "Regarding the context window it is important to note that for online shopping systems the items ordering, in each individual transaction, is quite important as it is directly correlated to the user journey in the website. As such for the particular case the definition of a hyperparameter that will control the context window size is important. For classic brick-and-mortar retailers the order of each product in the receipt is not important as it is unlikely that it reflects the actual user sequence of actions.\n",
    "In our particular case of the real-life dataset we have a retailer that has over 30 locations and a website that seems to generate less than 10% of the revenue. As a result we decided to consider each transaction as a single-context for the computing of item co-counts.\n",
    "\n",
    "_Now the next logical step is to generate the matrix of item co-occurrence counts_"
   ]
  },
  {
   "cell_type": "code",
   "execution_count": 9,
   "metadata": {
    "scrolled": false
   },
   "outputs": [
    {
     "name": "stdout",
     "output_type": "stream",
     "text": [
      "Loading MCO...\n",
      "Loading raw data...\n",
      "  MCO Processing done in 0.08 min (sparse mat creation: 0.08 min):\n",
      "  Start date: None\n",
      "  End date:   None\n",
      "  Max co-occ: 5998.0\n"
     ]
    },
    {
     "data": {
      "text/markdown": [],
      "text/plain": [
       "<IPython.core.display.Markdown object>"
      ]
     },
     "metadata": {},
     "output_type": "display_data"
    },
    {
     "data": {
      "text/markdown": [
       "**Co-occurence distribution:**"
      ],
      "text/plain": [
       "<IPython.core.display.Markdown object>"
      ]
     },
     "metadata": {},
     "output_type": "display_data"
    },
    {
     "name": "stdout",
     "output_type": "stream",
     "text": [
      "    Counts:   00 6382178 913964 293414 138452 77970 49730 34124 24904 18758\n",
      "    Nr items:  0       1      2      3      4     5     6     7     8     9\n"
     ]
    },
    {
     "data": {
      "text/markdown": [],
      "text/plain": [
       "<IPython.core.display.Markdown object>"
      ]
     },
     "metadata": {},
     "output_type": "display_data"
    },
    {
     "data": {
      "text/markdown": [
       "**Transactions size distribution:**"
      ],
      "text/plain": [
       "<IPython.core.display.Markdown object>"
      ]
     },
     "metadata": {},
     "output_type": "display_data"
    },
    {
     "name": "stdout",
     "output_type": "stream",
     "text": [
      "    Counts:   00 00 1210270 484388 194496 86254 41847 21134 11616 6430\n",
      "    Nr items:  0  1       2      3      4     5     6     7     8    9\n"
     ]
    },
    {
     "data": {
      "text/markdown": [],
      "text/plain": [
       "<IPython.core.display.Markdown object>"
      ]
     },
     "metadata": {},
     "output_type": "display_data"
    },
    {
     "data": {
      "text/markdown": [
       "**Transactional data structure:**"
      ],
      "text/plain": [
       "<IPython.core.display.Markdown object>"
      ]
     },
     "metadata": {},
     "output_type": "display_data"
    },
    {
     "name": "stdout",
     "output_type": "stream",
     "text": [
      "    RangeIndex: 5767223 entries, 0 to 5767222\n",
      "    Data columns (total 8 columns):\n",
      "     #   Column     Dtype  \n",
      "    ---  ------     -----  \n",
      "     0   BasketId   int64  \n",
      "     1   ItemId     int64  \n",
      "     2   SiteId     int64  \n",
      "     3   TimeStamp  object \n",
      "     4   Qtty       float64\n",
      "     5   ClientId   int64  \n",
      "     6   IsActive   int64  \n",
      "     7   IDE        int64  \n",
      "    dtypes: float64(1), int64(6), object(1)\n",
      "    memory usage: 352.0+ MB\n",
      "\n",
      "\n"
     ]
    },
    {
     "data": {
      "text/markdown": [
       "MCO data: (only 7x7 values displayed)"
      ],
      "text/plain": [
       "<IPython.core.display.Markdown object>"
      ]
     },
     "metadata": {},
     "output_type": "display_data"
    },
    {
     "name": "stdout",
     "output_type": "stream",
     "text": [
      "\r",
      "    [[   0.   25.   49. 5998.  297.   85.   28.]\n",
      "     [  25.    0.   32.   19.    6.    9.   15.]\n",
      "     [  49.   32.    0.   22.    8.   15.   28.]\n",
      "     [5998.   19.   22.    0.  165.   42.   13.]\n",
      "     [ 297.    6.    8.  165.    0.  141.   11.]\n",
      "     [  85.    9.   15.   42.  141.    0.   11.]\n",
      "     [  28.   15.   28.   13.   11.   11.    0.]]\n"
     ]
    },
    {
     "data": {
      "image/png": "[encoded data removed]",
      "text/plain": [
       "<Figure size 576x360 with 1 Axes>"
      ]
     },
     "metadata": {},
     "output_type": "display_data"
    },
    {
     "data": {
      "image/png": "[encoded data removed]",
      "text/plain": [
       "<Figure size 792x504 with 1 Axes>"
      ]
     },
     "metadata": {},
     "output_type": "display_data"
    },
    {
     "name": "stdout",
     "output_type": "stream",
     "text": [
      "\r",
      "Saving 'exp_models\\exp_mco.npz'\n"
     ]
    }
   ],
   "source": [
    "csr_mco, tran_sizes = generate_sparse_mco(\n",
    "    DATA_FILE, mco_out_file=MCO_OUT_FILE,\n",
    "    plot=True, return_counts=True, log=log,\n",
    "    DEBUG=DEBUG, mco_file=_MCO_FILE)"
   ]
  },
  {
   "cell_type": "markdown",
   "metadata": {},
   "source": [
    "\n",
    "### Meta-information & categories\n",
    "\n",
    "With regard to the meta-data that can generate important knowledge graph information for our self-supervised approach we found out that the _detail category_ - or the so called \"level 2 hierarchy\" -  has a finer granularity than the first level hierarchical information. Further information regarding how this information is processed in order o obtain our knowledge graph will be presented in the modelling section.\n"
   ]
  },
  {
   "cell_type": "code",
   "execution_count": 10,
   "metadata": {
    "scrolled": false
   },
   "outputs": [
    {
     "data": {
      "text/markdown": [
       "*Hierarchy level 1 'Ierarhie1' contains 32 categories*"
      ],
      "text/plain": [
       "<IPython.core.display.Markdown object>"
      ]
     },
     "metadata": {},
     "output_type": "display_data"
    },
    {
     "name": "stdout",
     "output_type": "stream",
     "text": [
      "  Category name: ACCESORII GASTRO AA  Id:   9  Prods:  523\n",
      "  Category name: ALTELE               Id:  26  Prods:    9\n",
      "  Category name: CARTE ROM            Id:   1  Prods: 7202\n",
      "  Category name: CARTE STRAINA        Id:   0  Prods:  736\n",
      "  ...\n"
     ]
    },
    {
     "data": {
      "text/markdown": [
       "*Hierarchy level 2 'Ierarhie2' contains 356 categories*"
      ],
      "text/plain": [
       "<IPython.core.display.Markdown object>"
      ]
     },
     "metadata": {},
     "output_type": "display_data"
    },
    {
     "name": "stdout",
     "output_type": "stream",
     "text": [
      "  Category name: ACCESORII              Id: 116  Prods:    3\n",
      "  Category name: ACCESORII FASHION      Id: 274  Prods:   21\n",
      "  Category name: ACCESORII MASA         Id: 249  Prods:   26\n",
      "  Category name: ALTELE                 Id:  60  Prods:   60\n",
      "  ...\n"
     ]
    }
   ],
   "source": [
    "dct_i2n = {k:v for k,v in zip(df_meta.IDE, df_meta.ItemName)}\n",
    "    \n",
    "# we slice and convert the sparse matrix\n",
    "np_mco = csr_mco.toarray()[:MAX_N_TOP_PRODUCTS,:MAX_N_TOP_PRODUCTS]\n",
    "df_meta = df_meta.iloc[:MAX_N_TOP_PRODUCTS]\n",
    "# raw sanity-check\n",
    "for i in range(np_mco.shape[0]):\n",
    "    assert i in df_meta.IDE\n",
    "\n",
    "show_categs(df_meta, dct_categories, k=5, log=log)\n"
   ]
  },
  {
   "cell_type": "markdown",
   "metadata": {},
   "source": [
    "### Analogy with word-vectors\n",
    "\n",
    "As previously mentioned, the proposed ProVe model is expected to generate similar results with those of GloVe applied to word-vectors. Just as we load a pre-trained GloVe-100 embeddings matrix with the 400,000 words vector space representations and run a neighbourhood analysis for a word such as “beatles” and obtain “lennon”b, “mccartney” we expect to have similar outputs from our product semantic vector space model."
   ]
  },
  {
   "cell_type": "code",
   "execution_count": 11,
   "metadata": {},
   "outputs": [
    {
     "name": "stdout",
     "output_type": "stream",
     "text": [
      "\r",
      "Loading GloVe word embeddings\n"
     ]
    },
    {
     "data": {
      "text/markdown": [
       "Top neighbors for 9440: 'beatles':"
      ],
      "text/plain": [
       "<IPython.core.display.Markdown object>"
      ]
     },
     "metadata": {},
     "output_type": "display_data"
    },
    {
     "name": "stdout",
     "output_type": "stream",
     "text": [
      "  beatles:    0.000\n",
      "  lennon:     0.246\n",
      "  mccartney:  0.276\n",
      "  dylan:      0.304\n",
      "  songs:      0.305\n",
      "  recordings: 0.325\n",
      "  albums:     0.326\n",
      "  elvis:      0.326\n",
      "  motown:     0.327\n",
      "  presley:    0.333\n"
     ]
    }
   ],
   "source": [
    "if 'wemb' not in globals():\n",
    "    log.P(\"Loading GloVe word embeddings\")\n",
    "    glove_words = os.path.join(DATA_HOME, 'glove_words_and_embeds_100d.npz')\n",
    "    data = np.load(glove_words)\n",
    "    np_words = data['arr_0']\n",
    "    wemb = data['arr_1']\n",
    "\n",
    "def show_word(word):\n",
    "    show_neighbors(word, wemb, np_words, log=log)\n",
    "    \n",
    "show_word('beatles')"
   ]
  },
  {
   "cell_type": "markdown",
   "metadata": {},
   "source": [
    "## Self-supervised training and supervised testing\n",
    "\n",
    "Although the training process is entirely self-supervised, one particular challenge that was faced was the preparation of test cases and actual evaluation metrics. For the development of the evaluation dataset a classic \"supervised\" approach has been adopted based on manual data exploration. \n",
    "After manual selection of a limited list of categories based on the available meta information a sample of products has been extracted and analysed. For each of the target selected categories - `MUSIC`, `VYNIL`, `DVD`, `Board-games` - multiple products have been manually selected. Following the manual selection of product candidates for evaluation data, for each individual chosen item the top neighbors items have been prepared using cosine distance.\n"
   ]
  },
  {
   "cell_type": "code",
   "execution_count": 12,
   "metadata": {},
   "outputs": [
    {
     "data": {
      "text/markdown": [
       "*Hierarchy level 1 'Ierarhie1' contains 8 categories*"
      ],
      "text/plain": [
       "<IPython.core.display.Markdown object>"
      ]
     },
     "metadata": {},
     "output_type": "display_data"
    },
    {
     "name": "stdout",
     "output_type": "stream",
     "text": [
      "  Category name: COMICS&MANGA  Id:  21  Prods:  135\n",
      "  Category name: GASTRONOMIE   Id:  20  Prods:  196\n",
      "  Category name: HOME&DECO AA  Id:  10  Prods:  174\n",
      "  Category name: LIFESTYLE     Id:  12  Prods:  239\n",
      "  Category name: MULTIMEDIA    Id:   8  Prods:  411\n",
      "  Category name: MUZICA        Id:   2  Prods:  219\n",
      "  Category name: NOVELTY       Id:  23  Prods:  103\n",
      "  Category name: VINURI        Id:  14  Prods:   23\n"
     ]
    },
    {
     "data": {
      "text/markdown": [
       "*Hierarchy level 2 'Ierarhie2' contains 14 categories*"
      ],
      "text/plain": [
       "<IPython.core.display.Markdown object>"
      ]
     },
     "metadata": {},
     "output_type": "display_data"
    },
    {
     "name": "stdout",
     "output_type": "stream",
     "text": [
      "  Category name: Audiobook CD           Id: 111  Prods:    7\n",
      "  Category name: BLU-RAY                Id:  36  Prods:   16\n",
      "  Category name: BOARD GAMES            Id: 140  Prods:  165\n",
      "  Category name: Backtoschool           Id: 108  Prods:   16\n",
      "  Category name: Bakery                 Id: 269  Prods:   10\n",
      "  Category name: COMICS                 Id:  87  Prods:    3\n",
      "  Category name: Comics                 Id: 120  Prods:   23\n",
      "  Category name: FILOSOFIE              Id:  43  Prods:  144\n",
      "  Category name: Giftware               Id: 107  Prods:   95\n",
      "  Category name: LIFESTYLE              Id: 283  Prods:   11\n",
      "  Category name: MANGA                  Id:  63  Prods:   87\n",
      "  Category name: Travel Mug             Id: 144  Prods:   66\n",
      "  Category name: Travelling collection  Id:  75  Prods:   19\n",
      "  Category name: Vinyl                  Id:  10  Prods:   52\n"
     ]
    }
   ],
   "source": [
    "proposed_test_categs = {\n",
    "  'Ierarhie1': {\n",
    "      'COMICS&MANGA': 21, 'GASTRONOMIE': 20, 'HOME&DECO AA': 10, \n",
    "      'LIFESTYLE': 12, 'MULTIMEDIA': 8,'MUZICA': 2, 'NOVELTY': 23,\n",
    "      'VINURI': 14,\n",
    "  },\n",
    "  'Ierarhie2': {\n",
    "      'AUDIO & VIDEOBOOK': 259, 'Accesorii apple': 193, 'Activity': 294, \n",
    "      'Audiobook CD': 111,'BLU-RAY': 36, 'BLU-RAY 3D': 224, 'BOARD GAMES': 140, \n",
    "      'Backtoschool': 108, 'Bakery': 269, 'Bath': 262, 'Blu-Ray Audio': 165, \n",
    "      'Blu-Ray Video': 65, 'Body Care': 330, 'CD Clasica/Opera': 83, 'COMICS': 87, \n",
    "      'Comics': 120, 'DRAW MANGA/COMICS/VIDEOGAMES': 72, 'FILOSOFIE': 43, \n",
    "      'Film Blu-Ray': 136, 'Film DVD': 52, 'Film VHS': 343, 'GASTRO/BAKERY': 314, \n",
    "      'Giftware': 107, 'Gourmet': 192, 'Jazz': 308, 'Kitchen': 118, 'LIFESTYLE': 283, \n",
    "      'MANGA': 63, 'ROBOTICA': 300, 'SelfHelp': 198, 'TRAVELING COLLECTION': 139, \n",
    "      'Travel': 243, 'Travel Mug': 144, 'Travelling collection': 75, 'UHD': 183, \n",
    "      'Vinyl': 10,\n",
    "   }\n",
    "}      \n",
    "dct_cat = filter_categs(\n",
    "    proposed_test_categs, df_meta, dct_categories,\n",
    "    max_n_top_products=MAX_N_TOP_PRODUCTS)\n",
    "\n",
    "\n",
    "show_categs(df_meta, dct_cat, k=1000, log=log)\n",
    "df_tpr = df_meta[\n",
    "      df_meta.Ierarhie1.isin(list(dct_cat['Ierarhie1'].values())) |\n",
    "      df_meta.Ierarhie2.isin(list(dct_cat['Ierarhie2'].values()))\n",
    "      ]"
   ]
  },
  {
   "cell_type": "markdown",
   "metadata": {},
   "source": [
    "# Metrics and overall evaluation\n",
    "\n",
    "With regard to metrics and evaluation of this particular experiment it is important to decide how we view the model - as a classic classification or as a ranking problem. As a result the possible metrics that can be applied to our experiment are varied and the options range from the classification metrics such as accuracy, precision, recall, F-score up to recommender systems domain-specific metrics. The initially proposed metrics were _Recall@K_ that measures the ability of our system to recommend viable items within the first _K_ proposed candidates as well as the more importantly the _MRR@k_ (Mean Reciprocal Rank) applied only for the first _K_ candidates (if the target is ranked lower than the _K_ then the score is 0).\n",
    "\n",
    "<p style=\"text-align: center;\">$MRR = \\frac{1}{|Q|}\\sum\\limits_{i=1}^{|Q|} \\frac{1}{r_i}$</p>\n",
    "\n",
    "In the above formula _Q_ represents all the tests performed while $r_i$ represents the rank of the positive candidate (`inf` if no candidate matches the gold value). Finally we decided to use only MRR as evaluation metric with various small number of candidates (K=1 and K=5)."
   ]
  },
  {
   "cell_type": "code",
   "execution_count": 13,
   "metadata": {},
   "outputs": [],
   "source": [
    "def mrr_k(np_cands_batch, np_gold_batch, k=5):\n",
    "  \"\"\"\n",
    "  will compute Mean Reciprocal Rank for a batch of predictions\n",
    "  inputs:\n",
    "    np_cands_batch: [batch, no_products] - the candidates for each experiment in batch\n",
    "    np_gold_batch: [batch,] or [batch, 1] - the actual gold target product replacement\n",
    "    k: int (default 5) the max number of candidates evaluated\n",
    "  \"\"\"\n",
    "  assert len(np_cands_batch.shape) == 2\n",
    "  np_gold_batch  = np_gold_batch.reshape(-1,1)\n",
    "  np_cands_batch = np_cands_batch[:,:k]\n",
    "  n_obs, n_cands = np_cands_batch.shape\n",
    "  matches = np_cands_batch == np_gold_batch  \n",
    "  _x = np.repeat(np.arange(1,n_cands+1).reshape(1,-1),n_obs, axis=0) \n",
    "  _y = np.ones((n_obs,n_cands)) * np.inf\n",
    "  np_res = 1 / np.where(matches, _x, _y).min(axis=1)\n",
    "  return np_res.mean()"
   ]
  },
  {
   "cell_type": "markdown",
   "metadata": {},
   "source": [
    "# The Models\n",
    "\n",
    "For this work we decided to take the most straightforward approach at “classifying” viable replacement candidates: that of using cosine distance and take the first 5 candidates (or just the first one) as potential replacement items for a target item.\n",
    "Two main models form the base of our experiment - GloVe <cite data-cite=\"pennington2014glove\"> </cite> in its new _ProVe_ form as well as retrofitting techniques derived from the work of Faruqui et al <cite data-cite=\"faruqui2014retrofitting\"> </cite>, Mrkšić et al <cite data-cite=\"mrkvsic2016counter\"> </cite> and Dingwall et al <cite data-cite=\"dingwall2018mittens\"></cite>. \n"
   ]
  },
  {
   "cell_type": "markdown",
   "metadata": {},
   "source": [
    "## Hyperparameters\n",
    "\n",
    "The hyper-parameter selection is entirely based on the results of our exploratory data analysis on the real-life dataset combined with the know-how resulted from the natural language counterparts. For the vector space dimensionality we chosed 128. We chosed a maximum frequency of co-occurrences of 250 although as it can be observed from the distribution of counts we have a maximum of over 5000. The number of iterations is on-purpose set to a large number (250,000) as during our experimentation we concluded that after 1000 iterations the optimization begins to decrease slowly and we have decided a good-enough products vector representation is obtained when the loss starts to decrease at a rate of 0.1 per iteration. We save during our ProVe optimization after each 1000 iterations. "
   ]
  },
  {
   "cell_type": "code",
   "execution_count": 14,
   "metadata": {},
   "outputs": [],
   "source": [
    "EMBED_SIZE = 128\n",
    "MAX_FREQ = 250\n",
    "MAX_ITERS = 250000\n",
    "SAVE_EVERY_EPOCHS= 100\n",
    "RETROFIT_TOL = 1e-5"
   ]
  },
  {
   "cell_type": "markdown",
   "metadata": {},
   "source": [
    "## ProVe implementation\n",
    "\n",
    "\n",
    "For the training of the _product_ embeddings we are using the Mittens (https://github.com/roamanalytics/mittens) framework by Dingwall et al <cite data-cite=\"dingwall2018mittens\"> </cite> on the prepared co-occurences. As prviously mentioned in order to speed-up model experimentation time we decided to drop the number of products down to 13,000 different items and gain optimization speed. The entire optimization procedure based on the Mittens <cite data-cite=\"dingwall2018mittens\"> </cite> was modified so that it allows a finer control of the iterations as well as full in-GPU training without any RAM-to-VRAM transfer.\n",
    "\n",
    "We train our product embeddings for 10,000 epochs (first loss graph below) and for 250,000 epochs (second loss graph)\n",
    "![10k epochs](exp_v2_loss.png)\n",
    "![250K epochs](exp_v1_loss.png)\n",
    "\n",
    "We compare the resulting embeddings based on our neighborhood similarity tests.\n",
    "\n",
    "_A secondary class entitled `EmbedsEngine` has been developed. It encapsulates methods for post-processing, visualization and high-end features based on pre-trained ProVe models_\n"
   ]
  },
  {
   "cell_type": "code",
   "execution_count": 15,
   "metadata": {},
   "outputs": [
    {
     "name": "stdout",
     "output_type": "stream",
     "text": [
      "ProVe: v0.2.0.1 initializing...\n",
      "    Embeds (13000, 128) loaded from exp_v1_embeds.npy.\n",
      "Found category string in 'Ierarhie1_name'\n",
      "Found category string in 'Ierarhie2_name'\n",
      "Constructing items knowledge graph\n",
      "  Retrieving products for category 'Ierarhie1'\n",
      "  Retrieving products for category 'Ierarhie2'\n",
      "  Created products graph 100.0%\n"
     ]
    }
   ],
   "source": [
    "prove_model = ProVe(\n",
    "    default_embeds_file=EMB128_250k,\n",
    "    name='exp_v1',\n",
    "    log=log,\n",
    "    )\n",
    "\n",
    "if prove_model.embeds is None:\n",
    "    prove_model.fit(\n",
    "        mco=csr_mco,\n",
    "        embed_size=EMBED_SIZE, \n",
    "        max_cooccure=MAX_FREQ, \n",
    "        epochs=MAX_ITERS,\n",
    "        save_folder=MODEL_HOME,\n",
    "        save_epochs=SAVE_EVERY_EPOCHS,\n",
    "    )\n",
    "\n",
    "embeds = prove_model.embeds\n",
    "\n",
    "prod_eng = EmbedsEngine(\n",
    "    np_embeddings=embeds,\n",
    "    df_metadata=df_meta,\n",
    "    name_field='ItemName',\n",
    "    id_field='IDE',\n",
    "    log=log,\n",
    "    categ_fields=['Ierarhie1', 'Ierarhie2'],\n",
    "    dct_categ_names=dct_categories\n",
    "    )"
   ]
  },
  {
   "cell_type": "markdown",
   "metadata": {},
   "source": [
    "## Refining evaluation data using trained ProVe\n",
    "\n",
    "Following the full generation of the ProVe vector space model for product embeddings we explored various neighbor tests in a similar manner to that of word embeddings. As previously mentioned we selected manually each individual evaluation item in order to find those that would clearly fail at proposing a good replacement candidate with just a cosine distance neighbor search within the products vector space.\n",
    "\n",
    "Aside from the straightforward neighborhood search we also hand-picked two other products - one that is obviously a potential replacement for our product (“Best of David Bowie - 2002”) and another one that is clearly not a replacement (“NLP - by Ian McDermott”). For these two additional products we constantly measure the distances during the various phases of our experiment."
   ]
  },
  {
   "cell_type": "code",
   "execution_count": 16,
   "metadata": {},
   "outputs": [
    {
     "name": "stdout",
     "output_type": "stream",
     "text": [
      "Analysis of 12071: 'CD / DAVID BOWIE / BLACKSTAR (2016)'\n",
      "  Distance from positive 11418:  0.921\n",
      "  Distance from negative 5312:   0.653\n"
     ]
    },
    {
     "data": {
      "text/markdown": [
       "<strong>Table: Non-filtered neighbors of 12071 using exp_v1_embeds.npy model</strong>"
      ],
      "text/plain": [
       "<IPython.core.display.Markdown object>"
      ]
     },
     "metadata": {},
     "output_type": "display_data"
    },
    {
     "data": {
      "text/html": [
       "<div>\n",
       "<style scoped>\n",
       "    .dataframe tbody tr th:only-of-type {\n",
       "        vertical-align: middle;\n",
       "    }\n",
       "\n",
       "    .dataframe tbody tr th {\n",
       "        vertical-align: top;\n",
       "    }\n",
       "\n",
       "    .dataframe thead th {\n",
       "        text-align: right;\n",
       "    }\n",
       "</style>\n",
       "<table border=\"1\" class=\"dataframe\">\n",
       "  <thead>\n",
       "    <tr style=\"text-align: right;\">\n",
       "      <th></th>\n",
       "      <th>ID</th>\n",
       "      <th>DIST</th>\n",
       "      <th>NAME</th>\n",
       "      <th>H1</th>\n",
       "      <th>H2</th>\n",
       "    </tr>\n",
       "  </thead>\n",
       "  <tbody>\n",
       "    <tr>\n",
       "      <th>0</th>\n",
       "      <td>12071</td>\n",
       "      <td>0.000</td>\n",
       "      <td>CD / DAVID BOWIE / BLACKSTAR (2016)</td>\n",
       "      <td>MUZICA</td>\n",
       "      <td>CD International</td>\n",
       "    </tr>\n",
       "    <tr>\n",
       "      <th>1</th>\n",
       "      <td>5312</td>\n",
       "      <td>0.653</td>\n",
       "      <td>IAN MCDERMOTT / NLP PENTRU CARIERA SI VI</td>\n",
       "      <td>CARTE ROM</td>\n",
       "      <td>DEZVOLTARE PERSONALA</td>\n",
       "    </tr>\n",
       "    <tr>\n",
       "      <th>2</th>\n",
       "      <td>9997</td>\n",
       "      <td>0.654</td>\n",
       "      <td>HOLLY SMALE / TOCILARA</td>\n",
       "      <td>CARTE ROM</td>\n",
       "      <td>FICTIUNE ADOLESCENTI</td>\n",
       "    </tr>\n",
       "    <tr>\n",
       "      <th>3</th>\n",
       "      <td>1115</td>\n",
       "      <td>0.683</td>\n",
       "      <td>DAN LUNGU / SUNT O BABA COMUNISTA (TOP10</td>\n",
       "      <td>CARTE ROM</td>\n",
       "      <td>FICTIUNE</td>\n",
       "    </tr>\n",
       "    <tr>\n",
       "      <th>4</th>\n",
       "      <td>10047</td>\n",
       "      <td>0.690</td>\n",
       "      <td>MAGNET METAL - BATMAN (JOKER)</td>\n",
       "      <td>COMICS&amp;MANGA</td>\n",
       "      <td>Comics</td>\n",
       "    </tr>\n",
       "    <tr>\n",
       "      <th>5</th>\n",
       "      <td>2883</td>\n",
       "      <td>0.693</td>\n",
       "      <td>HARRIET MUNCASTER / ISADORA MOON MERGE C</td>\n",
       "      <td>CARTE ROM</td>\n",
       "      <td>CARTI PENTRU COPII</td>\n",
       "    </tr>\n",
       "    <tr>\n",
       "      <th>6</th>\n",
       "      <td>12399</td>\n",
       "      <td>0.701</td>\n",
       "      <td>YOU GIVE ME A REASON MINI CARD / KELLY H</td>\n",
       "      <td>PAPETARIE AA</td>\n",
       "      <td>Cadouri</td>\n",
       "    </tr>\n",
       "    <tr>\n",
       "      <th>7</th>\n",
       "      <td>7132</td>\n",
       "      <td>0.703</td>\n",
       "      <td>SALLY GARDNER / ARIPI SI CO 3: MISTERIOA</td>\n",
       "      <td>CARTE ROM</td>\n",
       "      <td>CARTI PENTRU COPII</td>\n",
       "    </tr>\n",
       "    <tr>\n",
       "      <th>8</th>\n",
       "      <td>6443</td>\n",
       "      <td>0.712</td>\n",
       "      <td>DVD / DUNKIRK (2017)</td>\n",
       "      <td>MULTIMEDIA</td>\n",
       "      <td>DVD</td>\n",
       "    </tr>\n",
       "    <tr>\n",
       "      <th>9</th>\n",
       "      <td>9334</td>\n",
       "      <td>0.723</td>\n",
       "      <td>SET 6 COASTERS PARIS MONUMENTS</td>\n",
       "      <td>ACCESORII GASTR</td>\n",
       "      <td>Accesorii servit mas</td>\n",
       "    </tr>\n",
       "  </tbody>\n",
       "</table>\n",
       "</div>"
      ],
      "text/latex": [
       "\\begin{center}\n",
       "\\scriptsize\n",
       "\\begin{tabular}{lrrlll}\n",
       "\\toprule\n",
       "{} &     ID &  DIST &                                      NAME &               H1 &                    H2 \\\\\n",
       "\\midrule\n",
       "\\textbf{0} &  12071 & 0.000 &       CD / DAVID BOWIE / BLACKSTAR (2016) &           MUZICA &      CD International \\\\\n",
       "\\textbf{1} &   5312 & 0.653 &  IAN MCDERMOTT / NLP PENTRU CARIERA SI VI &        CARTE ROM &  DEZVOLTARE PERSONALA \\\\\n",
       "\\textbf{2} &   9997 & 0.654 &                    HOLLY SMALE / TOCILARA &        CARTE ROM &  FICTIUNE ADOLESCENTI \\\\\n",
       "\\textbf{3} &   1115 & 0.683 &  DAN LUNGU / SUNT O BABA COMUNISTA (TOP10 &        CARTE ROM &              FICTIUNE \\\\\n",
       "\\textbf{4} &  10047 & 0.690 &             MAGNET METAL - BATMAN (JOKER) &     COMICS\\&MANGA &                Comics \\\\\n",
       "\\textbf{5} &   2883 & 0.693 &  HARRIET MUNCASTER / ISADORA MOON MERGE C &        CARTE ROM &    CARTI PENTRU COPII \\\\\n",
       "\\textbf{6} &  12399 & 0.701 &  YOU GIVE ME A REASON MINI CARD / KELLY H &     PAPETARIE AA &               Cadouri \\\\\n",
       "\\textbf{7} &   7132 & 0.703 &  SALLY GARDNER / ARIPI SI CO 3: MISTERIOA &        CARTE ROM &    CARTI PENTRU COPII \\\\\n",
       "\\textbf{8} &   6443 & 0.712 &                      DVD / DUNKIRK (2017) &       MULTIMEDIA &                   DVD \\\\\n",
       "\\textbf{9} &   9334 & 0.723 &            SET 6 COASTERS PARIS MONUMENTS &  ACCESORII GASTR &  Accesorii servit mas \\\\\n",
       "\\bottomrule\n",
       "\\end{tabular}\n",
       "\\end{center}\n"
      ],
      "text/plain": [
       "      ID  DIST                                      NAME               H1                    H2\n",
       "0  12071 0.000       CD / DAVID BOWIE / BLACKSTAR (2016)           MUZICA      CD International\n",
       "1   5312 0.653  IAN MCDERMOTT / NLP PENTRU CARIERA SI VI        CARTE ROM  DEZVOLTARE PERSONALA\n",
       "2   9997 0.654                    HOLLY SMALE / TOCILARA        CARTE ROM  FICTIUNE ADOLESCENTI\n",
       "3   1115 0.683  DAN LUNGU / SUNT O BABA COMUNISTA (TOP10        CARTE ROM              FICTIUNE\n",
       "4  10047 0.690             MAGNET METAL - BATMAN (JOKER)     COMICS&MANGA                Comics\n",
       "5   2883 0.693  HARRIET MUNCASTER / ISADORA MOON MERGE C        CARTE ROM    CARTI PENTRU COPII\n",
       "6  12399 0.701  YOU GIVE ME A REASON MINI CARD / KELLY H     PAPETARIE AA               Cadouri\n",
       "7   7132 0.703  SALLY GARDNER / ARIPI SI CO 3: MISTERIOA        CARTE ROM    CARTI PENTRU COPII\n",
       "8   6443 0.712                      DVD / DUNKIRK (2017)       MULTIMEDIA                   DVD\n",
       "9   9334 0.723            SET 6 COASTERS PARIS MONUMENTS  ACCESORII GASTR  Accesorii servit mas"
      ]
     },
     "execution_count": 16,
     "metadata": {},
     "output_type": "execute_result"
    }
   ],
   "source": [
    "test_items = [\n",
    "    12071, 11418, 10088, 9251, \n",
    "    9845, 8956, 6020,\n",
    "    129, 1150, 3852\n",
    "]\n",
    "exp_id = 12071\n",
    "pos_id = 11418\n",
    "neg_id = 5312\n",
    "\n",
    "prod_eng.analize_item(exp_id, positive_id=pos_id, negative_id=neg_id)\n",
    "prod_eng.get_similar_items(exp_id, filtered=False, show=print_df, \n",
    "                           name='Non-filtered neighbors of {} using {} model'.format(\n",
    "                               exp_id, prove_model.embeds_file))    "
   ]
  },
  {
   "cell_type": "markdown",
   "metadata": {},
   "source": [
    "As we can see from above table our proposed \"anchor\" product (`12071`) is clearly _closer_ to a lot of products that might be in a complementarity relationship to it than to products from its own category (music, rock, etc). We can run the same similarity analysis using a filter that would give us only products from the same generic inventory hierarchical category. "
   ]
  },
  {
   "cell_type": "code",
   "execution_count": 17,
   "metadata": {},
   "outputs": [
    {
     "data": {
      "text/markdown": [
       "<strong>Table: Filtered neighbors of 12071 using exp_v1_embeds.npy model</strong>"
      ],
      "text/plain": [
       "<IPython.core.display.Markdown object>"
      ]
     },
     "metadata": {},
     "output_type": "display_data"
    },
    {
     "data": {
      "text/html": [
       "<div>\n",
       "<style scoped>\n",
       "    .dataframe tbody tr th:only-of-type {\n",
       "        vertical-align: middle;\n",
       "    }\n",
       "\n",
       "    .dataframe tbody tr th {\n",
       "        vertical-align: top;\n",
       "    }\n",
       "\n",
       "    .dataframe thead th {\n",
       "        text-align: right;\n",
       "    }\n",
       "</style>\n",
       "<table border=\"1\" class=\"dataframe\">\n",
       "  <thead>\n",
       "    <tr style=\"text-align: right;\">\n",
       "      <th></th>\n",
       "      <th>ID</th>\n",
       "      <th>DIST</th>\n",
       "      <th>NAME</th>\n",
       "      <th>H1</th>\n",
       "      <th>H2</th>\n",
       "    </tr>\n",
       "  </thead>\n",
       "  <tbody>\n",
       "    <tr>\n",
       "      <th>0</th>\n",
       "      <td>12071</td>\n",
       "      <td>0.000</td>\n",
       "      <td>CD / DAVID BOWIE / BLACKSTAR (2016)</td>\n",
       "      <td>MUZICA</td>\n",
       "      <td>CD International</td>\n",
       "    </tr>\n",
       "    <tr>\n",
       "      <th>140</th>\n",
       "      <td>10604</td>\n",
       "      <td>0.796</td>\n",
       "      <td>LP / LED ZEPPELIN / PHYSICAL GRAFFITI -1</td>\n",
       "      <td>MUZICA</td>\n",
       "      <td>Vinyl</td>\n",
       "    </tr>\n",
       "    <tr>\n",
       "      <th>205</th>\n",
       "      <td>9991</td>\n",
       "      <td>0.810</td>\n",
       "      <td>CD / LED ZEPPELIN / REMASTERS (1990) CD2</td>\n",
       "      <td>MUZICA</td>\n",
       "      <td>CD International</td>\n",
       "    </tr>\n",
       "    <tr>\n",
       "      <th>219</th>\n",
       "      <td>8599</td>\n",
       "      <td>0.813</td>\n",
       "      <td>CD / AC/DC / BACK IN BLACK -1980- (2003)</td>\n",
       "      <td>MUZICA</td>\n",
       "      <td>CD International</td>\n",
       "    </tr>\n",
       "    <tr>\n",
       "      <th>453</th>\n",
       "      <td>3139</td>\n",
       "      <td>0.837</td>\n",
       "      <td>CD / METALLICA / MASTER OF PUPPETS (1986</td>\n",
       "      <td>MUZICA</td>\n",
       "      <td>CD International</td>\n",
       "    </tr>\n",
       "    <tr>\n",
       "      <th>515</th>\n",
       "      <td>9333</td>\n",
       "      <td>0.841</td>\n",
       "      <td>CD / GREEN DAY / AMERICAN IDIOT (2004)</td>\n",
       "      <td>MUZICA</td>\n",
       "      <td>CD International</td>\n",
       "    </tr>\n",
       "    <tr>\n",
       "      <th>638</th>\n",
       "      <td>9811</td>\n",
       "      <td>0.851</td>\n",
       "      <td>LP / ELVIS PRESLEY / THE ESSENTIAL (2016</td>\n",
       "      <td>MUZICA</td>\n",
       "      <td>Vinyl</td>\n",
       "    </tr>\n",
       "    <tr>\n",
       "      <th>677</th>\n",
       "      <td>7932</td>\n",
       "      <td>0.853</td>\n",
       "      <td>CD / METALLICA / METALLICA (1991)</td>\n",
       "      <td>MUZICA</td>\n",
       "      <td>CD International</td>\n",
       "    </tr>\n",
       "    <tr>\n",
       "      <th>690</th>\n",
       "      <td>6256</td>\n",
       "      <td>0.854</td>\n",
       "      <td>LP / RED HOT CHILI PEPPERS / CALIFORNICA</td>\n",
       "      <td>MUZICA</td>\n",
       "      <td>Vinyl</td>\n",
       "    </tr>\n",
       "    <tr>\n",
       "      <th>710</th>\n",
       "      <td>7645</td>\n",
       "      <td>0.855</td>\n",
       "      <td>CD / DELIA / LIVE (DIGIPACK) (2017)</td>\n",
       "      <td>MUZICA</td>\n",
       "      <td>CD Repertoriu Local</td>\n",
       "    </tr>\n",
       "  </tbody>\n",
       "</table>\n",
       "</div>"
      ],
      "text/latex": [
       "\\begin{center}\n",
       "\\scriptsize\n",
       "\\begin{tabular}{lrrlll}\n",
       "\\toprule\n",
       "{} &     ID &  DIST &                                      NAME &      H1 &                   H2 \\\\\n",
       "\\midrule\n",
       "\\textbf{0  } &  12071 & 0.000 &       CD / DAVID BOWIE / BLACKSTAR (2016) &  MUZICA &     CD International \\\\\n",
       "\\textbf{140} &  10604 & 0.796 &  LP / LED ZEPPELIN / PHYSICAL GRAFFITI -1 &  MUZICA &                Vinyl \\\\\n",
       "\\textbf{205} &   9991 & 0.810 &  CD / LED ZEPPELIN / REMASTERS (1990) CD2 &  MUZICA &     CD International \\\\\n",
       "\\textbf{219} &   8599 & 0.813 &  CD / AC/DC / BACK IN BLACK -1980- (2003) &  MUZICA &     CD International \\\\\n",
       "\\textbf{453} &   3139 & 0.837 &  CD / METALLICA / MASTER OF PUPPETS (1986 &  MUZICA &     CD International \\\\\n",
       "\\textbf{515} &   9333 & 0.841 &    CD / GREEN DAY / AMERICAN IDIOT (2004) &  MUZICA &     CD International \\\\\n",
       "\\textbf{638} &   9811 & 0.851 &  LP / ELVIS PRESLEY / THE ESSENTIAL (2016 &  MUZICA &                Vinyl \\\\\n",
       "\\textbf{677} &   7932 & 0.853 &         CD / METALLICA / METALLICA (1991) &  MUZICA &     CD International \\\\\n",
       "\\textbf{690} &   6256 & 0.854 &  LP / RED HOT CHILI PEPPERS / CALIFORNICA &  MUZICA &                Vinyl \\\\\n",
       "\\textbf{710} &   7645 & 0.855 &       CD / DELIA / LIVE (DIGIPACK) (2017) &  MUZICA &  CD Repertoriu Local \\\\\n",
       "\\bottomrule\n",
       "\\end{tabular}\n",
       "\\end{center}\n"
      ],
      "text/plain": [
       "        ID  DIST                                      NAME      H1                   H2\n",
       "0    12071 0.000       CD / DAVID BOWIE / BLACKSTAR (2016)  MUZICA     CD International\n",
       "140  10604 0.796  LP / LED ZEPPELIN / PHYSICAL GRAFFITI -1  MUZICA                Vinyl\n",
       "205   9991 0.810  CD / LED ZEPPELIN / REMASTERS (1990) CD2  MUZICA     CD International\n",
       "219   8599 0.813  CD / AC/DC / BACK IN BLACK -1980- (2003)  MUZICA     CD International\n",
       "453   3139 0.837  CD / METALLICA / MASTER OF PUPPETS (1986  MUZICA     CD International\n",
       "515   9333 0.841    CD / GREEN DAY / AMERICAN IDIOT (2004)  MUZICA     CD International\n",
       "638   9811 0.851  LP / ELVIS PRESLEY / THE ESSENTIAL (2016  MUZICA                Vinyl\n",
       "677   7932 0.853         CD / METALLICA / METALLICA (1991)  MUZICA     CD International\n",
       "690   6256 0.854  LP / RED HOT CHILI PEPPERS / CALIFORNICA  MUZICA                Vinyl\n",
       "710   7645 0.855       CD / DELIA / LIVE (DIGIPACK) (2017)  MUZICA  CD Repertoriu Local"
      ]
     },
     "execution_count": 17,
     "metadata": {},
     "output_type": "execute_result"
    }
   ],
   "source": [
    "prod_eng.get_similar_items(exp_id, filtered=True, show=print_df,\n",
    "                           name='Filtered neighbors of {} using {} model'.format(\n",
    "                               exp_id, prove_model.embeds_file))                          "
   ]
  },
  {
   "cell_type": "markdown",
   "metadata": {},
   "source": [
    "# The full Pipeline \n",
    "\n",
    "There are two main pipelines, one for each of our two individual objectives : that of finding product replacements and the second one of cold-start-ing new products in inventories:\n",
    "\n",
    "**Algorithm #1 `GetProductReplacement` - Product Replacement Modelling pipeline**\n",
    "```\n",
    " 1. Create MCO\n",
    " 2. Apply ProVe and obtain item embeddings\n",
    " 3. Extract knowledge graph information from meta-data  \n",
    " 4. For each individual product  \n",
    "     4.1. Find connected products  \n",
    "     4.2. Retrofit the product using connected products  \n",
    "```\n",
    "\n",
    "\n",
    "**Algorithm #2 `ColdStartProduct` - cold-starting new products embeddings**\n",
    "```\n",
    " 1. Setup embeddings of existing products and extract knowledge graph information from meta-data\n",
    " 2. Input new product hierarchy information\n",
    " 3. Input similar products from proposed similar products\n",
    " 4. Create new product embedding based on proposed similar with simple mean over embeddings\n",
    " 5. Add all hierarchy-based products to the list of similar products\n",
    " 6. Retrofit the new product embedding to all similar products \n",
    "```\n",
    "\n",
    "At this point we have discussed regarding the MCO preparation and processing the count matrix with _ProVe_ in order to obtain the initial products embedding space. The next logical step (`2.` in our algorithm) is to process the available hierarchical information in order to construct the knowledge graph. For this we are going to treat each category provided by the inventory’s category management database as a potential source of information that can provide knowledge graph edges for each product in its domain. For our previous item example `12071` (David Bowie's \"Blackstar\") the product information is presented below:"
   ]
  },
  {
   "cell_type": "code",
   "execution_count": 20,
   "metadata": {},
   "outputs": [
    {
     "name": "stdout",
     "output_type": "stream",
     "text": [
      "Product '12071' info:\n",
      "  NAME: CD / DAVID BOWIE / BLACKSTAR (2016)\n",
      "  Level 'Ierarhie1': 2\n",
      "  Level 'Ierarhie1_name': MUZICA\n",
      "  Level 'Ierarhie2': 4\n",
      "  Level 'Ierarhie2_name': CD International\n",
      "  EDGES: {10759, 1032, 12305, 3091, 4627, 10780, 9251, 1232\n"
     ]
    }
   ],
   "source": [
    "dct_prod_info = prod_eng.get_item_info(exp_id, verbose=True)"
   ]
  },
  {
   "cell_type": "markdown",
   "metadata": {},
   "source": [
    "At this point we can proceed with the final step presented in Algorithm #1, that of using the knowledge graph and pulling closer the products that have edges. Our proposed framework has multiple flavors when it comes to selecting the part of the embedding space we want to modify and in this case, for the sake of the experiment and for a clearer intuition, we chose only to modify the vector space portion that is most relevant for our chose product (`12071`)"
   ]
  },
  {
   "cell_type": "code",
   "execution_count": 21,
   "metadata": {},
   "outputs": [
    {
     "name": "stdout",
     "output_type": "stream",
     "text": [
      "Performing retrofitting on (13000, 128) embedding matrix...\n",
      "  Stop tol:    1.0e-05\n",
      "  Start-edges: 1\n",
      "Iteration 1; change was 3.5e+00\n",
      "Iteration 2; change was 8.0e-03\n",
      "Iteration 3; change was 1.8e-05\n",
      "Retrofiting converged at iteration 4; change was 0.0000 \n"
     ]
    }
   ],
   "source": [
    "new_embeds = prod_eng.get_retrofitted_embeds(prod_ids=exp_id, method='v1', tol=RETROFIT_TOL)"
   ]
  },
  {
   "cell_type": "markdown",
   "metadata": {},
   "source": [
    "Now we can repeat our hand-picked positive vs negative examples test and observe an improvement in the distances (slightly lower for the positive and slightly higher for the negative). However, this improvement is far from our desired objective of determining the replacement (the actual positive example in this case) with the simple cosine distance measurement."
   ]
  },
  {
   "cell_type": "code",
   "execution_count": null,
   "metadata": {},
   "outputs": [],
   "source": [
    "prod_eng.analize_item(exp_id, positive_id=pos_id, negative_id=neg_id, embeds=new_embeds)"
   ]
  },
  {
   "cell_type": "markdown",
   "metadata": {},
   "source": [
    "The next logical step is to verify the results of our retrofitting process re-running the past neighborhood tests both with and without filtering. First we run the search with no filtering:"
   ]
  },
  {
   "cell_type": "code",
   "execution_count": 22,
   "metadata": {},
   "outputs": [
    {
     "data": {
      "text/markdown": [
       "<strong>Table: Non-filtered neighbors of 12071 using retrofitted exp_v1_embeds.npy model</strong>"
      ],
      "text/plain": [
       "<IPython.core.display.Markdown object>"
      ]
     },
     "metadata": {},
     "output_type": "display_data"
    },
    {
     "data": {
      "text/html": [
       "<div>\n",
       "<style scoped>\n",
       "    .dataframe tbody tr th:only-of-type {\n",
       "        vertical-align: middle;\n",
       "    }\n",
       "\n",
       "    .dataframe tbody tr th {\n",
       "        vertical-align: top;\n",
       "    }\n",
       "\n",
       "    .dataframe thead th {\n",
       "        text-align: right;\n",
       "    }\n",
       "</style>\n",
       "<table border=\"1\" class=\"dataframe\">\n",
       "  <thead>\n",
       "    <tr style=\"text-align: right;\">\n",
       "      <th></th>\n",
       "      <th>ID</th>\n",
       "      <th>DIST</th>\n",
       "      <th>NAME</th>\n",
       "      <th>H1</th>\n",
       "      <th>H2</th>\n",
       "    </tr>\n",
       "  </thead>\n",
       "  <tbody>\n",
       "    <tr>\n",
       "      <th>0</th>\n",
       "      <td>12071</td>\n",
       "      <td>0.000</td>\n",
       "      <td>CD / DAVID BOWIE / BLACKSTAR (2016)</td>\n",
       "      <td>MUZICA</td>\n",
       "      <td>CD International</td>\n",
       "    </tr>\n",
       "    <tr>\n",
       "      <th>1</th>\n",
       "      <td>5312</td>\n",
       "      <td>0.668</td>\n",
       "      <td>IAN MCDERMOTT / NLP PENTRU CARIERA SI VI</td>\n",
       "      <td>CARTE ROM</td>\n",
       "      <td>DEZVOLTARE PERSONALA</td>\n",
       "    </tr>\n",
       "    <tr>\n",
       "      <th>2</th>\n",
       "      <td>9997</td>\n",
       "      <td>0.673</td>\n",
       "      <td>HOLLY SMALE / TOCILARA</td>\n",
       "      <td>CARTE ROM</td>\n",
       "      <td>FICTIUNE ADOLESCENTI</td>\n",
       "    </tr>\n",
       "    <tr>\n",
       "      <th>3</th>\n",
       "      <td>10047</td>\n",
       "      <td>0.689</td>\n",
       "      <td>MAGNET METAL - BATMAN (JOKER)</td>\n",
       "      <td>COMICS&amp;MANGA</td>\n",
       "      <td>Comics</td>\n",
       "    </tr>\n",
       "    <tr>\n",
       "      <th>4</th>\n",
       "      <td>1115</td>\n",
       "      <td>0.690</td>\n",
       "      <td>DAN LUNGU / SUNT O BABA COMUNISTA (TOP10</td>\n",
       "      <td>CARTE ROM</td>\n",
       "      <td>FICTIUNE</td>\n",
       "    </tr>\n",
       "    <tr>\n",
       "      <th>5</th>\n",
       "      <td>7132</td>\n",
       "      <td>0.690</td>\n",
       "      <td>SALLY GARDNER / ARIPI SI CO 3: MISTERIOA</td>\n",
       "      <td>CARTE ROM</td>\n",
       "      <td>CARTI PENTRU COPII</td>\n",
       "    </tr>\n",
       "    <tr>\n",
       "      <th>6</th>\n",
       "      <td>6443</td>\n",
       "      <td>0.692</td>\n",
       "      <td>DVD / DUNKIRK (2017)</td>\n",
       "      <td>MULTIMEDIA</td>\n",
       "      <td>DVD</td>\n",
       "    </tr>\n",
       "    <tr>\n",
       "      <th>7</th>\n",
       "      <td>12399</td>\n",
       "      <td>0.704</td>\n",
       "      <td>YOU GIVE ME A REASON MINI CARD / KELLY H</td>\n",
       "      <td>PAPETARIE AA</td>\n",
       "      <td>Cadouri</td>\n",
       "    </tr>\n",
       "    <tr>\n",
       "      <th>8</th>\n",
       "      <td>2883</td>\n",
       "      <td>0.707</td>\n",
       "      <td>HARRIET MUNCASTER / ISADORA MOON MERGE C</td>\n",
       "      <td>CARTE ROM</td>\n",
       "      <td>CARTI PENTRU COPII</td>\n",
       "    </tr>\n",
       "    <tr>\n",
       "      <th>9</th>\n",
       "      <td>9334</td>\n",
       "      <td>0.721</td>\n",
       "      <td>SET 6 COASTERS PARIS MONUMENTS</td>\n",
       "      <td>ACCESORII GASTR</td>\n",
       "      <td>Accesorii servit mas</td>\n",
       "    </tr>\n",
       "  </tbody>\n",
       "</table>\n",
       "</div>"
      ],
      "text/latex": [
       "\\begin{center}\n",
       "\\scriptsize\n",
       "\\begin{tabular}{lrrlll}\n",
       "\\toprule\n",
       "{} &     ID &  DIST &                                      NAME &               H1 &                    H2 \\\\\n",
       "\\midrule\n",
       "\\textbf{0} &  12071 & 0.000 &       CD / DAVID BOWIE / BLACKSTAR (2016) &           MUZICA &      CD International \\\\\n",
       "\\textbf{1} &   5312 & 0.668 &  IAN MCDERMOTT / NLP PENTRU CARIERA SI VI &        CARTE ROM &  DEZVOLTARE PERSONALA \\\\\n",
       "\\textbf{2} &   9997 & 0.673 &                    HOLLY SMALE / TOCILARA &        CARTE ROM &  FICTIUNE ADOLESCENTI \\\\\n",
       "\\textbf{3} &  10047 & 0.689 &             MAGNET METAL - BATMAN (JOKER) &     COMICS\\&MANGA &                Comics \\\\\n",
       "\\textbf{4} &   1115 & 0.690 &  DAN LUNGU / SUNT O BABA COMUNISTA (TOP10 &        CARTE ROM &              FICTIUNE \\\\\n",
       "\\textbf{5} &   7132 & 0.690 &  SALLY GARDNER / ARIPI SI CO 3: MISTERIOA &        CARTE ROM &    CARTI PENTRU COPII \\\\\n",
       "\\textbf{6} &   6443 & 0.692 &                      DVD / DUNKIRK (2017) &       MULTIMEDIA &                   DVD \\\\\n",
       "\\textbf{7} &  12399 & 0.704 &  YOU GIVE ME A REASON MINI CARD / KELLY H &     PAPETARIE AA &               Cadouri \\\\\n",
       "\\textbf{8} &   2883 & 0.707 &  HARRIET MUNCASTER / ISADORA MOON MERGE C &        CARTE ROM &    CARTI PENTRU COPII \\\\\n",
       "\\textbf{9} &   9334 & 0.721 &            SET 6 COASTERS PARIS MONUMENTS &  ACCESORII GASTR &  Accesorii servit mas \\\\\n",
       "\\bottomrule\n",
       "\\end{tabular}\n",
       "\\end{center}\n"
      ],
      "text/plain": [
       "      ID  DIST                                      NAME               H1                    H2\n",
       "0  12071 0.000       CD / DAVID BOWIE / BLACKSTAR (2016)           MUZICA      CD International\n",
       "1   5312 0.668  IAN MCDERMOTT / NLP PENTRU CARIERA SI VI        CARTE ROM  DEZVOLTARE PERSONALA\n",
       "2   9997 0.673                    HOLLY SMALE / TOCILARA        CARTE ROM  FICTIUNE ADOLESCENTI\n",
       "3  10047 0.689             MAGNET METAL - BATMAN (JOKER)     COMICS&MANGA                Comics\n",
       "4   1115 0.690  DAN LUNGU / SUNT O BABA COMUNISTA (TOP10        CARTE ROM              FICTIUNE\n",
       "5   7132 0.690  SALLY GARDNER / ARIPI SI CO 3: MISTERIOA        CARTE ROM    CARTI PENTRU COPII\n",
       "6   6443 0.692                      DVD / DUNKIRK (2017)       MULTIMEDIA                   DVD\n",
       "7  12399 0.704  YOU GIVE ME A REASON MINI CARD / KELLY H     PAPETARIE AA               Cadouri\n",
       "8   2883 0.707  HARRIET MUNCASTER / ISADORA MOON MERGE C        CARTE ROM    CARTI PENTRU COPII\n",
       "9   9334 0.721            SET 6 COASTERS PARIS MONUMENTS  ACCESORII GASTR  Accesorii servit mas"
      ]
     },
     "execution_count": 22,
     "metadata": {},
     "output_type": "execute_result"
    }
   ],
   "source": [
    "prod_eng.get_similar_items(exp_id, embeds=new_embeds, filtered=False, show=print_df,\n",
    "                           name='Non-filtered neighbors of {} using retrofitted {} model'.format(\n",
    "                               exp_id, prove_model.embeds_file))     "
   ]
  },
  {
   "cell_type": "markdown",
   "metadata": {},
   "source": [
    "And then we run it with filtering using the hierarchy management database."
   ]
  },
  {
   "cell_type": "code",
   "execution_count": 23,
   "metadata": {},
   "outputs": [
    {
     "data": {
      "text/markdown": [
       "<strong>Table: Filtered neighbors of 12071 using retrofitted exp_v1_embeds.npy model</strong>"
      ],
      "text/plain": [
       "<IPython.core.display.Markdown object>"
      ]
     },
     "metadata": {},
     "output_type": "display_data"
    },
    {
     "data": {
      "text/html": [
       "<div>\n",
       "<style scoped>\n",
       "    .dataframe tbody tr th:only-of-type {\n",
       "        vertical-align: middle;\n",
       "    }\n",
       "\n",
       "    .dataframe tbody tr th {\n",
       "        vertical-align: top;\n",
       "    }\n",
       "\n",
       "    .dataframe thead th {\n",
       "        text-align: right;\n",
       "    }\n",
       "</style>\n",
       "<table border=\"1\" class=\"dataframe\">\n",
       "  <thead>\n",
       "    <tr style=\"text-align: right;\">\n",
       "      <th></th>\n",
       "      <th>ID</th>\n",
       "      <th>DIST</th>\n",
       "      <th>NAME</th>\n",
       "      <th>H1</th>\n",
       "      <th>H2</th>\n",
       "    </tr>\n",
       "  </thead>\n",
       "  <tbody>\n",
       "    <tr>\n",
       "      <th>0</th>\n",
       "      <td>12071</td>\n",
       "      <td>0.000</td>\n",
       "      <td>CD / DAVID BOWIE / BLACKSTAR (2016)</td>\n",
       "      <td>MUZICA</td>\n",
       "      <td>CD International</td>\n",
       "    </tr>\n",
       "    <tr>\n",
       "      <th>105</th>\n",
       "      <td>10604</td>\n",
       "      <td>0.787</td>\n",
       "      <td>LP / LED ZEPPELIN / PHYSICAL GRAFFITI -1</td>\n",
       "      <td>MUZICA</td>\n",
       "      <td>Vinyl</td>\n",
       "    </tr>\n",
       "    <tr>\n",
       "      <th>109</th>\n",
       "      <td>9991</td>\n",
       "      <td>0.787</td>\n",
       "      <td>CD / LED ZEPPELIN / REMASTERS (1990) CD2</td>\n",
       "      <td>MUZICA</td>\n",
       "      <td>CD International</td>\n",
       "    </tr>\n",
       "    <tr>\n",
       "      <th>181</th>\n",
       "      <td>3139</td>\n",
       "      <td>0.806</td>\n",
       "      <td>CD / METALLICA / MASTER OF PUPPETS (1986</td>\n",
       "      <td>MUZICA</td>\n",
       "      <td>CD International</td>\n",
       "    </tr>\n",
       "    <tr>\n",
       "      <th>210</th>\n",
       "      <td>8599</td>\n",
       "      <td>0.810</td>\n",
       "      <td>CD / AC/DC / BACK IN BLACK -1980- (2003)</td>\n",
       "      <td>MUZICA</td>\n",
       "      <td>CD International</td>\n",
       "    </tr>\n",
       "    <tr>\n",
       "      <th>211</th>\n",
       "      <td>9333</td>\n",
       "      <td>0.810</td>\n",
       "      <td>CD / GREEN DAY / AMERICAN IDIOT (2004)</td>\n",
       "      <td>MUZICA</td>\n",
       "      <td>CD International</td>\n",
       "    </tr>\n",
       "    <tr>\n",
       "      <th>292</th>\n",
       "      <td>5534</td>\n",
       "      <td>0.821</td>\n",
       "      <td>CD / GUNS N' ROSES / GREATEST HITS (2004</td>\n",
       "      <td>MUZICA</td>\n",
       "      <td>CD International</td>\n",
       "    </tr>\n",
       "    <tr>\n",
       "      <th>297</th>\n",
       "      <td>6256</td>\n",
       "      <td>0.821</td>\n",
       "      <td>LP / RED HOT CHILI PEPPERS / CALIFORNICA</td>\n",
       "      <td>MUZICA</td>\n",
       "      <td>Vinyl</td>\n",
       "    </tr>\n",
       "    <tr>\n",
       "      <th>486</th>\n",
       "      <td>7932</td>\n",
       "      <td>0.838</td>\n",
       "      <td>CD / METALLICA / METALLICA (1991)</td>\n",
       "      <td>MUZICA</td>\n",
       "      <td>CD International</td>\n",
       "    </tr>\n",
       "    <tr>\n",
       "      <th>504</th>\n",
       "      <td>7645</td>\n",
       "      <td>0.839</td>\n",
       "      <td>CD / DELIA / LIVE (DIGIPACK) (2017)</td>\n",
       "      <td>MUZICA</td>\n",
       "      <td>CD Repertoriu Local</td>\n",
       "    </tr>\n",
       "  </tbody>\n",
       "</table>\n",
       "</div>"
      ],
      "text/latex": [
       "\\begin{center}\n",
       "\\scriptsize\n",
       "\\begin{tabular}{lrrlll}\n",
       "\\toprule\n",
       "{} &     ID &  DIST &                                      NAME &      H1 &                   H2 \\\\\n",
       "\\midrule\n",
       "\\textbf{0  } &  12071 & 0.000 &       CD / DAVID BOWIE / BLACKSTAR (2016) &  MUZICA &     CD International \\\\\n",
       "\\textbf{105} &  10604 & 0.787 &  LP / LED ZEPPELIN / PHYSICAL GRAFFITI -1 &  MUZICA &                Vinyl \\\\\n",
       "\\textbf{109} &   9991 & 0.787 &  CD / LED ZEPPELIN / REMASTERS (1990) CD2 &  MUZICA &     CD International \\\\\n",
       "\\textbf{181} &   3139 & 0.806 &  CD / METALLICA / MASTER OF PUPPETS (1986 &  MUZICA &     CD International \\\\\n",
       "\\textbf{210} &   8599 & 0.810 &  CD / AC/DC / BACK IN BLACK -1980- (2003) &  MUZICA &     CD International \\\\\n",
       "\\textbf{211} &   9333 & 0.810 &    CD / GREEN DAY / AMERICAN IDIOT (2004) &  MUZICA &     CD International \\\\\n",
       "\\textbf{292} &   5534 & 0.821 &  CD / GUNS N' ROSES / GREATEST HITS (2004 &  MUZICA &     CD International \\\\\n",
       "\\textbf{297} &   6256 & 0.821 &  LP / RED HOT CHILI PEPPERS / CALIFORNICA &  MUZICA &                Vinyl \\\\\n",
       "\\textbf{486} &   7932 & 0.838 &         CD / METALLICA / METALLICA (1991) &  MUZICA &     CD International \\\\\n",
       "\\textbf{504} &   7645 & 0.839 &       CD / DELIA / LIVE (DIGIPACK) (2017) &  MUZICA &  CD Repertoriu Local \\\\\n",
       "\\bottomrule\n",
       "\\end{tabular}\n",
       "\\end{center}\n"
      ],
      "text/plain": [
       "        ID  DIST                                      NAME      H1                   H2\n",
       "0    12071 0.000       CD / DAVID BOWIE / BLACKSTAR (2016)  MUZICA     CD International\n",
       "105  10604 0.787  LP / LED ZEPPELIN / PHYSICAL GRAFFITI -1  MUZICA                Vinyl\n",
       "109   9991 0.787  CD / LED ZEPPELIN / REMASTERS (1990) CD2  MUZICA     CD International\n",
       "181   3139 0.806  CD / METALLICA / MASTER OF PUPPETS (1986  MUZICA     CD International\n",
       "210   8599 0.810  CD / AC/DC / BACK IN BLACK -1980- (2003)  MUZICA     CD International\n",
       "211   9333 0.810    CD / GREEN DAY / AMERICAN IDIOT (2004)  MUZICA     CD International\n",
       "292   5534 0.821  CD / GUNS N' ROSES / GREATEST HITS (2004  MUZICA     CD International\n",
       "297   6256 0.821  LP / RED HOT CHILI PEPPERS / CALIFORNICA  MUZICA                Vinyl\n",
       "486   7932 0.838         CD / METALLICA / METALLICA (1991)  MUZICA     CD International\n",
       "504   7645 0.839       CD / DELIA / LIVE (DIGIPACK) (2017)  MUZICA  CD Repertoriu Local"
      ]
     },
     "execution_count": 23,
     "metadata": {},
     "output_type": "execute_result"
    }
   ],
   "source": [
    "prod_eng.get_similar_items(exp_id, embeds=new_embeds, filtered=True, show=print_df,\n",
    "                                name='Filtered neighbors of {} using retrofitted {} model'.format(\n",
    "                                exp_id, prove_model.embeds_file))  \n"
   ]
  },
  {
   "cell_type": "markdown",
   "metadata": {},
   "source": [
    "### Experiments - lowering the max-epoch threshold\n",
    "We also test the embeddings resulted from the 10,000 epochs training. Worth to mention is that the GPU 10,000 iterations took around 40' while the 250,000 took more than 12 hours. We discover that the lower epochs model behaves radically better than the 12 hrs trained model pointing to further investigation and the implementation of additional optimization heuristics (such as an early stopping mechanism).\n"
   ]
  },
  {
   "cell_type": "code",
   "execution_count": null,
   "metadata": {},
   "outputs": [],
   "source": [
    "embeds_10ke = np.load(EMB128_10k)\n",
    "prod_eng.analize_item(exp_id, positive_id=pos_id, negative_id=neg_id, embeds=embeds_10ke)\n",
    "prod_eng.get_similar_items(exp_id, filtered=False, show=print_df, embeds=embeds_10ke,\n",
    "                           name='Non-filtered neighbors of {} using {} model'.format(\n",
    "                               exp_id, EMB128_10k_FN))  "
   ]
  },
  {
   "cell_type": "markdown",
   "metadata": {},
   "source": [
    "And when analysing the top similar items, based on the 10,000 iterations ProVe optimization, using category filtering we have the following table"
   ]
  },
  {
   "cell_type": "code",
   "execution_count": null,
   "metadata": {},
   "outputs": [],
   "source": [
    "prod_eng.get_similar_items(exp_id, filtered=True, show=print_df, embeds=embeds_10ke,\n",
    "                           name='Filtered neighbors of {} using {} model'.format(\n",
    "                               exp_id, EMB128_10k_FN))  "
   ]
  },
  {
   "cell_type": "markdown",
   "metadata": {},
   "source": [
    "### ProVe Early stopping"
   ]
  },
  {
   "cell_type": "markdown",
   "metadata": {},
   "source": [
    "#### Direct test results"
   ]
  },
  {
   "cell_type": "markdown",
   "metadata": {},
   "source": [
    "#### Retrofitng results"
   ]
  },
  {
   "cell_type": "markdown",
   "metadata": {},
   "source": [
    "# Progress history\n",
    "\n",
    "At this point in our research and development process we managed to obtain generate the product embeddings based starting from the real-life transactional database. A more important finding is that we have experimental proof that our _ProVe_ model shows clear signs of capturing \"semantic\" information regarding product similarities as well as product complementarity, albeit without a clear cut between the two distinct categories. Similar findings can be discerned from the early work of Grbovic et al <cite data-cite=\"grbovic2015commerce\"> </cite> who use the k-means based clusters in order to separate potential similarities from complementarities.\n",
    "\n",
    "Progress has also been made with regard to the final stages of the proposed pipeline as the first iteration of experimentation with Faruqui et al <cite data-cite=\"faruqui2014retrofitting\"></cite> has been implemented as presented before.\n",
    "\n",
    "There is still a extensive list of actions and problems that have to be tackled such as:\n",
    "\n",
    " 1. Review the ProVe training and find the required heuristics that would aid us in finind the best time-vs-embeddings quality ratio.\n",
    " 2. Review the knowledge graph preparation process as well as optimize the v1 retrofitting method\n",
    " 3. Tune the ProVe hyperparameters and scalability. Re-train the model with maximum energy efficiency vs performance\n",
    " 4. Evaluate these initial results with the proposed `MRR` metric on a larger set of manually chosen items\n",
    " 5. Add optimized versions of the retrofitting as well as functional retrofitting (Lengerich et al <cite data-cite=\"lengerich2017retrofitting\"></cite>)\n",
    " 6. Evaluate the results for the advanced methods and compare with (1)\n",
    " 7. Complete the `ColdStartProduct` pipeline (Algorithm #2)\n"
   ]
  }
 ],
 "metadata": {
  "celltoolbar": "Edit Metadata",
  "kernelspec": {
   "display_name": "Python 3",
   "language": "python",
   "name": "python3"
  },
  "language_info": {
   "codemirror_mode": {
    "name": "ipython",
    "version": 3
   },
   "file_extension": ".py",
   "mimetype": "text/x-python",
   "name": "python",
   "nbconvert_exporter": "python",
   "pygments_lexer": "ipython3",
   "version": "3.7.4"
  }
 },
 "nbformat": 4,
 "nbformat_minor": 4
}
